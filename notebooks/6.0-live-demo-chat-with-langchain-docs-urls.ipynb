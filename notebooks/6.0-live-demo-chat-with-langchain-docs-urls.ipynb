{
 "cells": [
  {
   "cell_type": "code",
   "execution_count": null,
   "metadata": {},
   "outputs": [],
   "source": [
    "urls = ['https://python.langchain.com/docs/concepts/#__docusaurus_skipToContent_fallback', \n",
    " 'https://python.langchain.com/', 'https://python.langchain.com/docs/integrations/providers/', \n",
    " 'https://python.langchain.com/api_reference/', 'https://python.langchain.com/docs/concepts/#', \n",
    " 'https://python.langchain.com/docs/contributing/', 'https://python.langchain.com/docs/people/', \n",
    " 'https://python.langchain.com/docs/troubleshooting/errors/', 'https://docs.smith.langchain.com/', \n",
    " 'https://langchain-ai.github.io/langgraph/', 'https://smith.langchain.com/hub', 'https://js.langchain.com/',\n",
    " 'https://python.langchain.com/docs/introduction/', 'https://python.langchain.com/v0.2/docs/introduction',\n",
    " 'https://python.langchain.com/v0.1/docs/get_started/introduction', 'https://chat.langchain.com/', \n",
    " 'https://github.com/langchain-ai/langchain', 'https://python.langchain.com/docs/tutorials/', \n",
    " 'https://python.langchain.com/docs/tutorials/graph/', 'https://python.langchain.com/docs/tutorials/llm_chain/',\n",
    " 'https://python.langchain.com/docs/tutorials/chatbot/', 'https://python.langchain.com/docs/tutorials/qa_chat_history/', \n",
    " 'https://python.langchain.com/docs/tutorials/extraction/', 'https://python.langchain.com/docs/tutorials/agents/', \n",
    " 'https://python.langchain.com/docs/tutorials/classification/', 'https://python.langchain.com/docs/tutorials/rag/',\n",
    " 'https://python.langchain.com/docs/tutorials/retrievers/', 'https://python.langchain.com/docs/tutorials/sql_qa/', \n",
    " 'https://python.langchain.com/docs/tutorials/summarization/', 'https://python.langchain.com/docs/how_to/', \n",
    " 'https://python.langchain.com/docs/how_to/tools_chain/', 'https://python.langchain.com/docs/how_to/vectorstore_retriever/',\n",
    " 'https://python.langchain.com/docs/how_to/chatbots_memory/', 'https://python.langchain.com/docs/how_to/example_selectors/', \n",
    " 'https://python.langchain.com/docs/how_to/graph_semantic/', 'https://python.langchain.com/docs/how_to/parallel/', \n",
    " 'https://python.langchain.com/docs/how_to/chat_streaming/', 'https://python.langchain.com/docs/how_to/binding/', \n",
    " 'https://python.langchain.com/docs/how_to/chatbots_retrieval/', 'https://python.langchain.com/docs/how_to/few_shot_examples_chat/', \n",
    " 'https://python.langchain.com/docs/how_to/function_calling/', 'https://python.langchain.com/docs/how_to/installation/', \n",
    " 'https://python.langchain.com/docs/how_to/query_few_shot/', 'https://python.langchain.com/docs/how_to/few_shot_examples/', \n",
    " 'https://python.langchain.com/docs/how_to/functions/', 'https://python.langchain.com/docs/how_to/output_parser_structured/', \n",
    " 'https://python.langchain.com/docs/how_to/query_no_queries/', 'https://python.langchain.com/docs/how_to/routing/', 'https://python.langchain.com/docs/how_to/structured_output/', 'https://python.langchain.com/docs/how_to/summarize_map_reduce/', 'https://python.langchain.com/docs/how_to/summarize_refine/', 'https://python.langchain.com/docs/how_to/summarize_stuff/', 'https://python.langchain.com/docs/how_to/toolkits/', 'https://python.langchain.com/docs/how_to/tools_prompting/', 'https://python.langchain.com/docs/how_to/agent_executor/', 'https://python.langchain.com/docs/how_to/graph_constructing/', 'https://python.langchain.com/docs/how_to/prompts_partial/', 'https://python.langchain.com/docs/how_to/query_multiple_queries/', 'https://python.langchain.com/docs/how_to/tools_builtin/', 'https://python.langchain.com/docs/how_to/passthrough/',\n",
    " 'https://python.langchain.com/docs/how_to/prompts_composition/', 'https://python.langchain.com/docs/how_to/query_multiple_retrievers/', 'https://python.langchain.com/docs/how_to/assign/', 'https://python.langchain.com/docs/how_to/query_constructing_filters/', 'https://python.langchain.com/docs/how_to/configure/', 'https://python.langchain.com/docs/how_to/query_high_cardinality/', 'https://python.langchain.com/docs/how_to/document_loader_custom/', 'https://python.langchain.com/docs/how_to/HTML_header_metadata_splitter/', 'https://python.langchain.com/docs/how_to/HTML_section_aware_splitter/', 'https://python.langchain.com/docs/how_to/MultiQueryRetriever/', 'https://python.langchain.com/docs/how_to/add_scores_retriever/', 'https://python.langchain.com/docs/how_to/caching_embeddings/', 'https://python.langchain.com/docs/how_to/callbacks_async/', 'https://python.langchain.com/docs/how_to/callbacks_attach/', 'https://python.langchain.com/docs/how_to/callbacks_constructor/', 'https://python.langchain.com/docs/how_to/callbacks_custom_events/', 'https://python.langchain.com/docs/how_to/callbacks_runtime/', 'https://python.langchain.com/docs/how_to/character_text_splitter/', 'https://python.langchain.com/docs/how_to/chat_model_caching/', 'https://python.langchain.com/docs/how_to/chat_model_rate_limiting/', 'https://python.langchain.com/docs/how_to/chat_models_universal_init/', 'https://python.langchain.com/docs/how_to/chat_token_usage_tracking/', 'https://python.langchain.com/docs/how_to/chatbots_tools/', 'https://python.langchain.com/docs/how_to/code_splitter/', 'https://python.langchain.com/docs/how_to/contextual_compression/', 'https://python.langchain.com/docs/how_to/convert_runnable_to_tool/', 'https://python.langchain.com/docs/how_to/custom_callbacks/',\n",
    " 'https://python.langchain.com/docs/how_to/custom_chat_model/', 'https://python.langchain.com/docs/how_to/custom_llm/', 'https://python.langchain.com/docs/how_to/custom_retriever/', 'https://python.langchain.com/docs/how_to/custom_tools/', 'https://python.langchain.com/docs/how_to/debugging/', 'https://python.langchain.com/docs/how_to/document_loader_csv/', 'https://python.langchain.com/docs/how_to/document_loader_directory/', 'https://python.langchain.com/docs/how_to/document_loader_html/', 'https://python.langchain.com/docs/how_to/document_loader_json/', 'https://python.langchain.com/docs/how_to/document_loader_markdown/', 'https://python.langchain.com/docs/how_to/document_loader_office_file/', 'https://python.langchain.com/docs/how_to/document_loader_pdf/']"
   ]
  }
 ],
 "metadata": {
  "language_info": {
   "name": "python"
  }
 },
 "nbformat": 4,
 "nbformat_minor": 2
}
