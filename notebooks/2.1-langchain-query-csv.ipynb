{
 "cells": [
  {
   "cell_type": "code",
   "execution_count": 4,
   "metadata": {},
   "outputs": [],
   "source": [
    "# %pip install langchain\n",
    "# # %pip install langchain-openai\n",
    "# # %pip install langchainhub\n",
    "# # %pip install pypdf\n",
    "# %pip install chromadb\n",
    "# %pip install pandas"
   ]
  },
  {
   "cell_type": "code",
   "execution_count": null,
   "metadata": {},
   "outputs": [],
   "source": [
    "# Add the necessary imports at the beginning\n",
    "# %pip install langgraph"
   ]
  },
  {
   "cell_type": "markdown",
   "metadata": {},
   "source": [
    "# DISCLAIMER: \n",
    "\n",
    "```\n",
    "FOR THIS NOTEBOOK YOU WILL NEED TO BE RUNNING LOCALLY OLLAMA\n",
    "```\n",
    "\n",
    "See [here](https://python.langchain.com/v0.2/docs/integrations/chat/ollama/) for how to set that up."
   ]
  },
  {
   "cell_type": "code",
   "execution_count": 1,
   "metadata": {},
   "outputs": [],
   "source": [
    "import os\n",
    "import getpass\n",
    "\n",
    "# Set OPENAI API Key\n",
    "\n",
    "import os\n",
    "import getpass\n",
    "\n",
    "def _set_env(var: str):\n",
    "    if not os.environ.get(var):\n",
    "        os.environ[var] = getpass.getpass(f\"var: \")\n",
    "\n",
    "_set_env(\"OPENAI_API_KEY\")"
   ]
  },
  {
   "cell_type": "markdown",
   "metadata": {},
   "source": [
    "A vector database is a way to store these embeddings, these numerical representations that we just discussed.\n",
    "\n",
    "The pipeline is:\n",
    "- In coming document\n",
    "- Create chunks of text from that document\n",
    "- Embed each chunk\n",
    "- Store these embeddings\n",
    "\n",
    "![](2023-07-30-19-32-13.png)\n",
    "\n",
    "[LangChain for LLM Application Development by Deeplearning.ai](https://learn.deeplearning.ai/langchain/lesson/1/introduction)"
   ]
  },
  {
   "cell_type": "code",
   "execution_count": 2,
   "metadata": {},
   "outputs": [
    {
     "data": {
      "text/html": [
       "<div>\n",
       "<style scoped>\n",
       "    .dataframe tbody tr th:only-of-type {\n",
       "        vertical-align: middle;\n",
       "    }\n",
       "\n",
       "    .dataframe tbody tr th {\n",
       "        vertical-align: top;\n",
       "    }\n",
       "\n",
       "    .dataframe thead th {\n",
       "        text-align: right;\n",
       "    }\n",
       "</style>\n",
       "<table border=\"1\" class=\"dataframe\">\n",
       "  <thead>\n",
       "    <tr style=\"text-align: right;\">\n",
       "      <th></th>\n",
       "      <th>Superhero Name</th>\n",
       "      <th>Superpower</th>\n",
       "      <th>Power Level</th>\n",
       "      <th>Catchphrase</th>\n",
       "    </tr>\n",
       "  </thead>\n",
       "  <tbody>\n",
       "    <tr>\n",
       "      <th>0</th>\n",
       "      <td>Captain Thunder</td>\n",
       "      <td>Bolt Manipulation</td>\n",
       "      <td>90</td>\n",
       "      <td>Feel the power of the storm!</td>\n",
       "    </tr>\n",
       "    <tr>\n",
       "      <th>1</th>\n",
       "      <td>Silver Falcon</td>\n",
       "      <td>Flight and Agility</td>\n",
       "      <td>85</td>\n",
       "      <td>Soar high, fearlessly!</td>\n",
       "    </tr>\n",
       "    <tr>\n",
       "      <th>2</th>\n",
       "      <td>Mystic Shadow</td>\n",
       "      <td>Invisibility and Illusions</td>\n",
       "      <td>78</td>\n",
       "      <td>Disappear into the darkness!</td>\n",
       "    </tr>\n",
       "    <tr>\n",
       "      <th>3</th>\n",
       "      <td>Blaze Runner</td>\n",
       "      <td>Pyrokinesis</td>\n",
       "      <td>88</td>\n",
       "      <td>Burn bright and fierce!</td>\n",
       "    </tr>\n",
       "    <tr>\n",
       "      <th>4</th>\n",
       "      <td>Electra-Wave</td>\n",
       "      <td>Electric Manipulation</td>\n",
       "      <td>82</td>\n",
       "      <td>Unleash the electric waves!</td>\n",
       "    </tr>\n",
       "  </tbody>\n",
       "</table>\n",
       "</div>"
      ],
      "text/plain": [
       "    Superhero Name                  Superpower  Power Level  \\\n",
       "0  Captain Thunder           Bolt Manipulation           90   \n",
       "1    Silver Falcon          Flight and Agility           85   \n",
       "2    Mystic Shadow  Invisibility and Illusions           78   \n",
       "3     Blaze Runner                 Pyrokinesis           88   \n",
       "4     Electra-Wave       Electric Manipulation           82   \n",
       "\n",
       "                    Catchphrase  \n",
       "0  Feel the power of the storm!  \n",
       "1        Soar high, fearlessly!  \n",
       "2  Disappear into the darkness!  \n",
       "3       Burn bright and fierce!  \n",
       "4   Unleash the electric waves!  "
      ]
     },
     "execution_count": 2,
     "metadata": {},
     "output_type": "execute_result"
    }
   ],
   "source": [
    "import pandas as pd\n",
    "\n",
    "file_path=\"./assets-resources/superheroes.csv\"\n",
    "df = pd.read_csv(file_path)\n",
    "\n",
    "df.head()"
   ]
  },
  {
   "cell_type": "code",
   "execution_count": 3,
   "metadata": {},
   "outputs": [],
   "source": [
    "from langchain.document_loaders.csv_loader import CSVLoader"
   ]
  },
  {
   "cell_type": "code",
   "execution_count": 4,
   "metadata": {},
   "outputs": [
    {
     "data": {
      "text/plain": [
       "[Document(metadata={'source': './assets-resources/superheroes.csv', 'row': 0}, page_content='Superhero Name: Captain Thunder\\nSuperpower: Bolt Manipulation\\nPower Level: 90\\nCatchphrase: Feel the power of the storm!'),\n",
       " Document(metadata={'source': './assets-resources/superheroes.csv', 'row': 1}, page_content='Superhero Name: Silver Falcon\\nSuperpower: Flight and Agility\\nPower Level: 85\\nCatchphrase: Soar high, fearlessly!'),\n",
       " Document(metadata={'source': './assets-resources/superheroes.csv', 'row': 2}, page_content='Superhero Name: Mystic Shadow\\nSuperpower: Invisibility and Illusions\\nPower Level: 78\\nCatchphrase: Disappear into the darkness!'),\n",
       " Document(metadata={'source': './assets-resources/superheroes.csv', 'row': 3}, page_content='Superhero Name: Blaze Runner\\nSuperpower: Pyrokinesis\\nPower Level: 88\\nCatchphrase: Burn bright and fierce!'),\n",
       " Document(metadata={'source': './assets-resources/superheroes.csv', 'row': 4}, page_content='Superhero Name: Electra-Wave\\nSuperpower: Electric Manipulation\\nPower Level: 82\\nCatchphrase: Unleash the electric waves!')]"
      ]
     },
     "execution_count": 4,
     "metadata": {},
     "output_type": "execute_result"
    }
   ],
   "source": [
    "loader = CSVLoader(file_path)\n",
    "data = loader.load()\n",
    "data[:5]"
   ]
  },
  {
   "cell_type": "code",
   "execution_count": 5,
   "metadata": {},
   "outputs": [],
   "source": [
    "from langchain_ollama import ChatOllama\n",
    "\n",
    "llm = ChatOllama(\n",
    "    model=\"gemma3\",\n",
    "    verbose=True,\n",
    ")"
   ]
  },
  {
   "cell_type": "code",
   "execution_count": 6,
   "metadata": {},
   "outputs": [
    {
     "data": {
      "text/plain": [
       "AIMessage(content='Okay, let\\'s dive into the world of superheroes! I have a *lot* of information, thanks to the vast amounts of data I\\'ve been trained on. Here\\'s a breakdown of what I know, categorized for clarity:\\n\\n**1. Core Concepts & History:**\\n\\n* **What are Superheroes?** At their core, superheroes are fictional characters with extraordinary abilities, often possessing powers beyond human capabilities. They typically operate outside the law, striving to protect the innocent and fight against evil.\\n* **Origins:** The concept of superheroes really took off in the **Golden Age of Comics (1930s-1950s)**.  This era saw the creation of the foundational heroes:\\n    * **Superman (1938):** Often considered *the* first superhero. Created by Jerry Siegel and Joe Shuster, he set the standard for the genre with his invulnerability, flight, and \"truth, justice, and the American way.\"\\n    * **Batman (1939):** Created by Bob Kane and Bill Finger, a darker, detective-oriented hero offering a contrast to Superman.\\n    * **Wonder Woman (1941):** Created by William Moulton Marston, a feminist icon and a pioneering female superhero.\\n* **Silver Age (1950s-1970s):**  Increased emphasis on science and technology, introducing characters with powers derived from mutations or advanced equipment.\\n* **Bronze Age (1970s-1980s):** More complex narratives, darker themes, and a greater focus on character development.\\n* **Modern Age (1980s-Present):**  Continues to evolve, with a huge diversity of characters and storylines.\\n\\n\\n**2. Major Superhero Teams & Characters (A Selection):**\\n\\n* **Marvel Comics:**\\n    * **Spider-Man:**  Peter Parker, a relatable young man with great power, plagued by personal struggles.\\n    * **X-Men:** Mutants with superhuman abilities who fight for acceptance and equality. (Cyclops, Wolverine, Professor X, etc.)\\n    * **Fantastic Four:** The original team of Reed Richards, Sue Storm, Johnny Storm, and Ben Grimm, known for their cosmic adventures.\\n    * **Avengers:** A team of Earth\\'s mightiest heroes, often assembling to fight major threats. (Iron Man, Captain America, Thor, Hulk, etc.)\\n* **DC Comics:**\\n    * **Batman:** (Already mentioned)\\n    * **Superman:** (Already mentioned)\\n    * **Wonder Woman:** (Already mentioned)\\n    * **Green Lantern:** John Stewart (and others) – wields a power ring granting him various abilities.\\n    * **Justice League:** A larger team, uniting heroes from across the DC universe.\\n\\n\\n**3. Common Superhero Tropes & Elements:**\\n\\n* **Origin Stories:** Almost all superheroes have a specific origin story – an accident, a birthright, a transformation – that grants them their powers.\\n* **Costumes:** Distinctive, often brightly colored, costumes designed to identify heroes and sometimes enhance their abilities.\\n* **Nemeses:** Recurring villains who challenge heroes and provide conflict. (Lex Luthor, Doctor Doom, Thanos, etc.)\\n* **Moral Dilemmas:** Superheroes frequently grapple with complex ethical questions about the use of their powers and the consequences of their actions.\\n* **Secret Identities:** Many heroes conceal their true identities to protect loved ones or maintain a sense of normalcy.\\n\\n**4.  Beyond the Big Two:**\\n\\n* **Indie Comics:** There\\'s a thriving independent comic book scene, producing diverse and innovative superhero stories.\\n* **Animated Series & Movies:** Superheroes have been hugely successful in animation (e.g., *Batman: The Animated Series*, *Spider-Man: Into the Spider-Verse*) and live-action films (Marvel Cinematic Universe, DC Extended Universe).\\n\\n**5.  My Limitations:**\\n\\n* **Constantly Evolving Universe:** The superhero universe is *massive* and constantly expanding. New characters, storylines, and universes are created all the time. My knowledge is based on the data I was trained on, and it might not always be completely up-to-date.\\n* **Subjectivity:** \"Good\" and \"bad\" are often subjective in superhero stories.  I can\\'t offer a definitive judgment on characters\\' actions.\\n\\n\\n**To help me give you a more tailored response, could you tell me:**\\n\\n*   What specifically are you interested in learning about superheroes? (e.g., a particular character, a specific comic book series, the history of the genre, etc.)', additional_kwargs={}, response_metadata={'model': 'gemma3', 'created_at': '2025-09-04T15:24:19.673202Z', 'message': {'role': 'assistant', 'content': ''}, 'done_reason': 'stop', 'done': True, 'total_duration': 15672256542, 'load_duration': 1458417333, 'prompt_eval_count': 18, 'prompt_eval_duration': 191059416, 'eval_count': 972, 'eval_duration': 14022276625}, id='run--0f99a9ec-5108-4cac-abc2-73594bec35d6-0', usage_metadata={'input_tokens': 18, 'output_tokens': 972, 'total_tokens': 990})"
      ]
     },
     "execution_count": 6,
     "metadata": {},
     "output_type": "execute_result"
    }
   ],
   "source": [
    "llm.invoke(\"What do you know about superheros?\")"
   ]
  },
  {
   "cell_type": "code",
   "execution_count": 7,
   "metadata": {},
   "outputs": [],
   "source": [
    "from langchain.text_splitter import RecursiveCharacterTextSplitter\n",
    "\n",
    "text_splitter = RecursiveCharacterTextSplitter(chunk_size=500, chunk_overlap=100)\n",
    "all_splits = text_splitter.split_documents(data)"
   ]
  },
  {
   "cell_type": "code",
   "execution_count": null,
   "metadata": {},
   "outputs": [],
   "source": [
    "# Embed and store\n",
    "from langchain_chroma import Chroma\n",
    "from langchain_ollama import OllamaEmbeddings\n",
    "\n",
    "vectordb = Chroma.from_documents(documents=all_splits, embedding=OllamaEmbeddings(model='nomic-embed-text'))"
   ]
  },
  {
   "cell_type": "code",
   "execution_count": 9,
   "metadata": {},
   "outputs": [
    {
     "data": {
      "text/plain": [
       "4"
      ]
     },
     "execution_count": 9,
     "metadata": {},
     "output_type": "execute_result"
    }
   ],
   "source": [
    "question = \"What is the name of the thunder super hero?\"\n",
    "docs = vectordb.similarity_search(question)\n",
    "len(docs)"
   ]
  },
  {
   "cell_type": "code",
   "execution_count": 10,
   "metadata": {},
   "outputs": [
    {
     "data": {
      "text/plain": [
       "[Document(metadata={'row': 0, 'source': './assets-resources/superheroes.csv'}, page_content='Superhero Name: Captain Thunder\\nSuperpower: Bolt Manipulation\\nPower Level: 90\\nCatchphrase: Feel the power of the storm!'),\n",
       " Document(metadata={'row': 30, 'source': './assets-resources/superheroes.csv'}, page_content='Superhero Name: Thunderstrike\\nSuperpower: Lightning Control\\nPower Level: 91\\nCatchphrase: Electrify the battlefield!'),\n",
       " Document(metadata={'row': 20, 'source': './assets-resources/superheroes.csv'}, page_content=\"Superhero Name: Stormbringer\\nSuperpower: Weather Manipulation\\nPower Level: 93\\nCatchphrase: Unleash the storm's fury!\"),\n",
       " Document(metadata={'row': 8, 'source': './assets-resources/superheroes.csv'}, page_content='Superhero Name: Steel Titan\\nSuperpower: Super Strength and Durability\\nPower Level: 95\\nCatchphrase: Indestructible force of nature!')]"
      ]
     },
     "execution_count": 10,
     "metadata": {},
     "output_type": "execute_result"
    }
   ],
   "source": [
    "docs"
   ]
  },
  {
   "cell_type": "code",
   "execution_count": null,
   "metadata": {},
   "outputs": [
    {
     "name": "stdout",
     "output_type": "stream",
     "text": [
      "Superhero Name: Captain Thunder\n",
      "Superpower: Bolt Manipulation\n",
      "Power Level: 90\n",
      "Catchphrase: Feel the power of the storm!\n",
      "----------------------------------------------------------------------------------------------------\n",
      "Superhero Name: Thunderstrike\n",
      "Superpower: Lightning Control\n",
      "Power Level: 91\n",
      "Catchphrase: Electrify the battlefield!\n",
      "----------------------------------------------------------------------------------------------------\n",
      "Superhero Name: Stormbringer\n",
      "Superpower: Weather Manipulation\n",
      "Power Level: 93\n",
      "Catchphrase: Unleash the storm's fury!\n",
      "----------------------------------------------------------------------------------------------------\n",
      "Superhero Name: Steel Titan\n",
      "Superpower: Super Strength and Durability\n",
      "Power Level: 95\n",
      "Catchphrase: Indestructible force of nature!\n",
      "----------------------------------------------------------------------------------------------------\n"
     ]
    }
   ],
   "source": [
    "for doc in docs:\n",
    "    print(doc.page_content)\n",
    "    print(\"-\"*100)"
   ]
  },
  {
   "cell_type": "code",
   "execution_count": 12,
   "metadata": {},
   "outputs": [],
   "source": [
    "from langchain.chains.combine_documents import create_stuff_documents_chain\n",
    "from langchain.chains import create_retrieval_chain\n",
    "from langchain_core.prompts import ChatPromptTemplate\n",
    "from langchain_core.runnables import RunnablePassthrough\n",
    "from langchain_core.output_parsers import StrOutputParser\n",
    "\n",
    "def format_docs(docs):\n",
    "    return \"\\n\\n\".join(doc.page_content for doc in docs)\n",
    "\n",
    "\n",
    "system_prompt = (\n",
    "    \"You are an assistant for question-answering tasks. \"\n",
    "    \"Use the following pieces of retrieved context to answer \"\n",
    "    \"the question. If you don't know the answer, say that you \"\n",
    "    \"don't know. Use three sentences maximum and keep the \"\n",
    "    \"answer concise.\"\n",
    "    \"\\n\\n\"\n",
    "    \"{context}\"\n",
    ")\n",
    "\n",
    "prompt = ChatPromptTemplate.from_messages([\n",
    "    ('system', system_prompt),\n",
    "    ('human', '{input}')\n",
    "])\n",
    "\n",
    "\n",
    "rag_chain_from_docs = (\n",
    "    {\n",
    "        'input': lambda x: x['input'],\n",
    "        'context': lambda x: format_docs(x['context']), \n",
    "    }\n",
    "    | prompt\n",
    "    | llm\n",
    "    | StrOutputParser()\n",
    ")\n",
    "\n",
    "retriever = vectordb.as_retriever()\n",
    "\n",
    "# passing the input query to the retriever\n",
    "retrieve_docs = (lambda x: x['input']) | retriever\n",
    "\n",
    "qa_chain = RunnablePassthrough.assign(context=retrieve_docs).assign(\n",
    "    answer=rag_chain_from_docs\n",
    ")"
   ]
  },
  {
   "cell_type": "code",
   "execution_count": null,
   "metadata": {},
   "outputs": [],
   "source": []
  },
  {
   "cell_type": "code",
   "execution_count": 13,
   "metadata": {},
   "outputs": [
    {
     "data": {
      "text/plain": [
       "{'input': 'What is the catch phrase for the super hero with the power of producing balls of fire?',\n",
       " 'context': [Document(metadata={'row': 24, 'source': './assets-resources/superheroes.csv'}, page_content='Superhero Name: Blazing Comet\\nSuperpower: Fireball Projection\\nPower Level: 82\\nCatchphrase: Burn brighter than a comet!'),\n",
       "  Document(metadata={'row': 42, 'source': './assets-resources/superheroes.csv'}, page_content='Superhero Name: Solar Flare\\nSuperpower: Solar Energy Projection\\nPower Level: 85\\nCatchphrase: Feel the burning light!'),\n",
       "  Document(metadata={'row': 3, 'source': './assets-resources/superheroes.csv'}, page_content='Superhero Name: Blaze Runner\\nSuperpower: Pyrokinesis\\nPower Level: 88\\nCatchphrase: Burn bright and fierce!'),\n",
       "  Document(metadata={'row': 11, 'source': './assets-resources/superheroes.csv'}, page_content='Superhero Name: Starburst\\nSuperpower: Energy Projection\\nPower Level: 83\\nCatchphrase: Ignite the cosmos!')],\n",
       " 'answer': 'Blazing Comet’s catchphrase is “Burn brighter than a comet!” He possesses the superpower of fireball projection and has a power level of 82.'}"
      ]
     },
     "execution_count": 13,
     "metadata": {},
     "output_type": "execute_result"
    }
   ],
   "source": [
    "question = \"What is the catch phrase for the super hero with the power of producing balls of fire?\"\n",
    "result = qa_chain.invoke({'input': question})\n",
    "result"
   ]
  },
  {
   "cell_type": "code",
   "execution_count": 14,
   "metadata": {},
   "outputs": [
    {
     "data": {
      "text/plain": [
       "Superhero Name                  Blazing Comet\n",
       "Superpower                Fireball Projection\n",
       "Power Level                                82\n",
       "Catchphrase       Burn brighter than a comet!\n",
       "Name: 24, dtype: object"
      ]
     },
     "execution_count": 14,
     "metadata": {},
     "output_type": "execute_result"
    }
   ],
   "source": [
    "df.iloc[24]"
   ]
  },
  {
   "cell_type": "code",
   "execution_count": 15,
   "metadata": {},
   "outputs": [
    {
     "name": "stdout",
     "output_type": "stream",
     "text": [
      "LangGraph CSV RAG pipeline created successfully!\n"
     ]
    }
   ],
   "source": [
    "# from langchain.chains.combine_documents import create_stuff_documents_chain\n",
    "# from langchain.chains import create_retrieval_chain\n",
    "# from langchain_core.prompts import ChatPromptTemplate\n",
    "# from langchain_core.runnables import RunnablePassthrough\n",
    "# from langchain_core.output_parsers import StrOutputParser\n",
    "\n",
    "# def format_docs(docs):\n",
    "#     return \"\\n\\n\".join(doc.page_content for doc in docs)\n",
    "\n",
    "\n",
    "# system_prompt = (\n",
    "#     \"You are an assistant for question-answering tasks. \"\n",
    "#     \"Use the following pieces of retrieved context to answer \"\n",
    "#     \"the question. If you don't know the answer, say that you \"\n",
    "#     \"don't know. Use three sentences maximum and keep the \"\n",
    "#     \"answer concise.\"\n",
    "#     \"\\n\\n\"\n",
    "#     \"{context}\"\n",
    "# )\n",
    "\n",
    "# prompt = ChatPromptTemplate.from_messages([\n",
    "#     ('system', system_prompt),\n",
    "#     ('human', '{input}')\n",
    "# ])\n",
    "\n",
    "\n",
    "# rag_chain_from_docs = (\n",
    "#     {\n",
    "#         'input': lambda x: x['input'],\n",
    "#         'context': lambda x: format_docs(x['context']), \n",
    "#     }\n",
    "#     | prompt\n",
    "#     | llm\n",
    "#     | StrOutputParser()\n",
    "# )\n",
    "\n",
    "# retriever = vectordb.as_retriever()\n",
    "\n",
    "# # passing the input query to the retriever\n",
    "# retrieve_docs = (lambda x: x['input']) | retriever\n",
    "\n",
    "# qa_chain = RunnablePassthrough.assign(context=retrieve_docs).assign(\n",
    "#     answer=rag_chain_from_docs\n",
    "\n",
    "# LangGraph Implementation\n",
    "# Let's implement the same RAG pipeline using LangGraph for better workflow management\n",
    "\n",
    "from langgraph.graph import START, StateGraph, END\n",
    "from langchain_core.documents import Document\n",
    "from typing_extensions import List, TypedDict\n",
    "\n",
    "class CSVRAGState(TypedDict):\n",
    "    question: str\n",
    "    context: List[Document]\n",
    "    answer: str\n",
    "\n",
    "def retrieve_csv(state: CSVRAGState):\n",
    "    \"\"\"Retrieve relevant superhero documents based on the question\"\"\"\n",
    "    retrieved_docs = vectordb.similarity_search(state[\"question\"])\n",
    "    return {\"context\": retrieved_docs}\n",
    "\n",
    "def generate_csv_answer(state: CSVRAGState):\n",
    "    \"\"\"Generate answer using the retrieved superhero context\"\"\"\n",
    "    docs_content = \"\\n\\n\".join(doc.page_content for doc in state[\"context\"])\n",
    "    messages = [\n",
    "        (\"system\", system_prompt.format(context=docs_content)),\n",
    "        (\"human\", state[\"question\"])\n",
    "    ]\n",
    "    response = llm.invoke(messages)\n",
    "    return {\"answer\": response.content}\n",
    "\n",
    "# Build the LangGraph workflow\n",
    "csv_graph_builder = StateGraph(CSVRAGState).add_sequence([retrieve_csv, generate_csv_answer])\n",
    "csv_graph_builder.add_edge(START, \"retrieve_csv\")\n",
    "csv_graph_builder.add_edge(\"generate_csv_answer\", END)\n",
    "csv_rag_graph = csv_graph_builder.compile()\n",
    "\n",
    "print(\"LangGraph CSV RAG pipeline created successfully!\")"
   ]
  },
  {
   "cell_type": "code",
   "execution_count": 16,
   "metadata": {},
   "outputs": [
    {
     "data": {
      "image/png": "[encoded data removed]",
      "text/plain": [
       "<IPython.core.display.Image object>"
      ]
     },
     "metadata": {},
     "output_type": "display_data"
    }
   ],
   "source": [
    "from IPython.display import Image, display\n",
    "\n",
    "display(Image(csv_rag_graph.get_graph().draw_mermaid_png()))"
   ]
  },
  {
   "cell_type": "code",
   "execution_count": 17,
   "metadata": {},
   "outputs": [
    {
     "name": "stdout",
     "output_type": "stream",
     "text": [
      "=== LangGraph Results ===\n",
      "Question: What is the name of the thunder super hero?\n",
      "Answer: Based on the provided information, there are three superheroes named Thunder. Captain Thunder, Thunderstrike, and Stormbringer all have “Thunder” in their names and possess powers related to storms and lightning. I do not have enough information to determine which one you are referring to.\n",
      "\n",
      "Retrieved Context:\n",
      "1. Superhero Name: Captain Thunder\n",
      "Superpower: Bolt Manipulation\n",
      "Power Level: 90\n",
      "Catchphrase: Feel the power of the storm!\n",
      "2. Superhero Name: Thunderstrike\n",
      "Superpower: Lightning Control\n",
      "Power Level: 91\n",
      "Catchphrase: Electrify the battlefield!\n",
      "3. Superhero Name: Stormbringer\n",
      "Superpower: Weather Manipulation\n",
      "Power Level: 93\n",
      "Catchphrase: Unleash the storm's fury!\n",
      "4. Superhero Name: Steel Titan\n",
      "Superpower: Super Strength and Durability\n",
      "Power Level: 95\n",
      "Catchphrase: Indestructible force of nature!\n",
      "\n",
      "==================================================\n",
      "\n",
      "Question: What is the catch phrase for the super hero with the power of producing balls of fire?\n",
      "Answer: Blazing Comet’s catchphrase is “Burn brighter than a comet!” He possesses the superpower of fireball projection and has a power level of 82.\n",
      "\n",
      "Retrieved Context:\n",
      "1. Superhero Name: Blazing Comet\n",
      "Superpower: Fireball Projection\n",
      "Power Level: 82\n",
      "Catchphrase: Burn brighter than a comet!\n",
      "2. Superhero Name: Solar Flare\n",
      "Superpower: Solar Energy Projection\n",
      "Power Level: 85\n",
      "Catchphrase: Feel the burning light!\n",
      "3. Superhero Name: Blaze Runner\n",
      "Superpower: Pyrokinesis\n",
      "Power Level: 88\n",
      "Catchphrase: Burn bright and fierce!\n",
      "4. Superhero Name: Starburst\n",
      "Superpower: Energy Projection\n",
      "Power Level: 83\n",
      "Catchphrase: Ignite the cosmos!\n"
     ]
    }
   ],
   "source": [
    "# Test the LangGraph pipeline with the same questions\n",
    "\n",
    "# Question 1: Thunder superhero\n",
    "question1 = \"What is the name of the thunder super hero?\"\n",
    "result1 = csv_rag_graph.invoke({\"question\": question1})\n",
    "\n",
    "print(\"=== LangGraph Results ===\")\n",
    "print(f\"Question: {question1}\")\n",
    "print(f\"Answer: {result1['answer']}\")\n",
    "print(\"\\nRetrieved Context:\")\n",
    "for i, doc in enumerate(result1['context'], 1):\n",
    "    print(f\"{i}. {doc.page_content}\")\n",
    "\n",
    "print(\"\\n\" + \"=\"*50 + \"\\n\")\n",
    "\n",
    "# Question 2: Fire superhero\n",
    "question2 = \"What is the catch phrase for the super hero with the power of producing balls of fire?\"\n",
    "result2 = csv_rag_graph.invoke({\"question\": question2})\n",
    "\n",
    "print(f\"Question: {question2}\")\n",
    "print(f\"Answer: {result2['answer']}\")\n",
    "print(\"\\nRetrieved Context:\")\n",
    "for i, doc in enumerate(result2['context'], 1):\n",
    "    print(f\"{i}. {doc.page_content}\")"
   ]
  },
  {
   "cell_type": "code",
   "execution_count": null,
   "metadata": {},
   "outputs": [],
   "source": [
    "# Visualize the LangGraph workflow (optional)\n",
    "# Uncomment the lines below if you want to see the graph visualization\n",
    "\n",
    "# from IPython.display import Image, display\n",
    "# try:\n",
    "#     display(Image(csv_rag_graph.get_graph().draw_mermaid_png()))\n",
    "# except Exception as e:\n",
    "#     print(f\"Graph visualization not available: {e}\")\n",
    "#     print(\"The LangGraph workflow: START -> retrieve_csv -> generate_csv_answer -> END\")\n",
    "\n",
    "# Stream the workflow to see step-by-step execution\n",
    "print(\"=== Streaming LangGraph Execution ===\")\n",
    "for step in csv_rag_graph.stream(\n",
    "    {\"question\": \"Who has the highest power level?\"}, stream_mode=\"updates\"\n",
    "):\n",
    "    print(f\"{step}\\n\")\n",
    "    print(\"-\" * 40)"
   ]
  },
  {
   "cell_type": "code",
   "execution_count": null,
   "metadata": {},
   "outputs": [],
   "source": []
  }
 ],
 "metadata": {
  "kernelspec": {
   "display_name": "oreilly-langchain",
   "language": "python",
   "name": "oreilly-langchain"
  },
  "language_info": {
   "codemirror_mode": {
    "name": "ipython",
    "version": 3
   },
   "file_extension": ".py",
   "mimetype": "text/x-python",
   "name": "python",
   "nbconvert_exporter": "python",
   "pygments_lexer": "ipython3",
   "version": "3.11.9"
  }
 },
 "nbformat": 4,
 "nbformat_minor": 2
}
