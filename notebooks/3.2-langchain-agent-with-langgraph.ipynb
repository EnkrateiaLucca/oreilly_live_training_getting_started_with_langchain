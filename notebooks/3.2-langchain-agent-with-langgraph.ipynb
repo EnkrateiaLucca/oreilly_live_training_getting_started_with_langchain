{
 "cells": [
  {
   "cell_type": "code",
   "execution_count": null,
   "metadata": {},
   "outputs": [],
   "source": []
  },
  {
   "cell_type": "code",
   "execution_count": 2,
   "metadata": {},
   "outputs": [],
   "source": [
    "# Import relevant functionality\n",
    "from langchain_openai import ChatOpenAI\n",
    "from langchain_community.tools.tavily_search import TavilySearchResults\n",
    "from langchain_core.messages import HumanMessage\n",
    "from langgraph.checkpoint.memory import MemorySaver\n",
    "from langgraph.prebuilt import create_react_agent"
   ]
  },
  {
   "cell_type": "code",
   "execution_count": 3,
   "metadata": {},
   "outputs": [],
   "source": [
    "# Create the agent\n",
    "memory = MemorySaver()"
   ]
  },
  {
   "cell_type": "code",
   "execution_count": 4,
   "metadata": {},
   "outputs": [
    {
     "data": {
      "text/plain": [
       "AIMessage(content='An agent based on large language models (LLMs) refers to a computational entity or system that utilizes the capabilities of LLMs to perform tasks, make decisions, or interact with users in a context-aware manner. These agents leverage the natural language understanding and generation capabilities of LLMs to process input, generate responses, and carry out specific functions or goals. \\n\\nHere are some key characteristics and functionalities of such agents:\\n\\n1. **Natural Language Processing**: They can understand and generate human-like text, allowing them to engage in conversations, provide information, and answer questions.\\n\\n2. **Context Awareness**: LLM-based agents can maintain context over interactions, enabling them to provide coherent responses and follow conversations over multiple turns.\\n\\n3. **Task Execution**: These agents can perform specific tasks, such as scheduling appointments, providing recommendations, summarizing information, or executing commands based on user input.\\n\\n4. **Learning and Adaptation**: Some agents may incorporate mechanisms for learning from interactions to improve their performance or tailor their responses to individual users.\\n\\n5. **Integration with Other Systems**: LLM-based agents can often interface with other software, databases, or APIs to access information, perform transactions, or automate processes.\\n\\n6. **Personalization**: They can be designed to understand user preferences and customize interactions accordingly, providing a more tailored experience.\\n\\n7. **Multimodal Capabilities**: Advanced agents may combine text processing with other modalities, such as images or voice, to enhance user interaction.\\n\\nExamples of such agents include virtual assistants (like Siri or Google Assistant), chatbots for customer service, and educational tutors that can interact with students to provide assistance. Their versatility makes them applicable across various domains, including healthcare, finance, entertainment, and more.', additional_kwargs={'refusal': None}, response_metadata={'token_usage': {'completion_tokens': 352, 'prompt_tokens': 17, 'total_tokens': 369, 'completion_tokens_details': {'audio_tokens': 0, 'reasoning_tokens': 0, 'accepted_prediction_tokens': 0, 'rejected_prediction_tokens': 0}, 'prompt_tokens_details': {'audio_tokens': 0, 'cached_tokens': 0}}, 'model_name': 'gpt-4o-mini-2024-07-18', 'system_fingerprint': 'fp_bba3c8e70b', 'finish_reason': 'stop', 'logprobs': None}, id='run-17a83918-f9fd-4ea4-ae7f-d12bccd65f4f-0', usage_metadata={'input_tokens': 17, 'output_tokens': 352, 'total_tokens': 369, 'input_token_details': {'audio': 0, 'cache_read': 0}, 'output_token_details': {'audio': 0, 'reasoning': 0}})"
      ]
     },
     "execution_count": 4,
     "metadata": {},
     "output_type": "execute_result"
    }
   ],
   "source": [
    "llm = ChatOpenAI(model_name=\"gpt-4o-mini\")\n",
    "\n",
    "\n",
    "llm.invoke(\"What is an agent based on large language models?\")"
   ]
  },
  {
   "cell_type": "code",
   "execution_count": 5,
   "metadata": {},
   "outputs": [],
   "source": [
    "search = TavilySearchResults(max_results=3)"
   ]
  },
  {
   "cell_type": "code",
   "execution_count": 6,
   "metadata": {},
   "outputs": [],
   "source": [
    "tools = [search]"
   ]
  },
  {
   "cell_type": "code",
   "execution_count": 10,
   "metadata": {},
   "outputs": [
    {
     "data": {
      "image/png": "[encoded data removed]",
      "text/plain": [
       "<langgraph.graph.state.CompiledStateGraph object at 0x12df7bdd0>"
      ]
     },
     "execution_count": 10,
     "metadata": {},
     "output_type": "execute_result"
    }
   ],
   "source": [
    "agent_executor"
   ]
  },
  {
   "cell_type": "code",
   "execution_count": 7,
   "metadata": {},
   "outputs": [],
   "source": [
    "agent_executor = create_react_agent(llm, tools, checkpointer=memory)"
   ]
  },
  {
   "cell_type": "code",
   "execution_count": 8,
   "metadata": {},
   "outputs": [
    {
     "name": "stdout",
     "output_type": "stream",
     "text": [
      "{'agent': {'messages': [AIMessage(content=\"Hi Bob! It's great to meet you. How's life in San Francisco?\", additional_kwargs={'refusal': None}, response_metadata={'token_usage': {'completion_tokens': 17, 'prompt_tokens': 88, 'total_tokens': 105, 'completion_tokens_details': {'audio_tokens': 0, 'reasoning_tokens': 0, 'accepted_prediction_tokens': 0, 'rejected_prediction_tokens': 0}, 'prompt_tokens_details': {'audio_tokens': 0, 'cached_tokens': 0}}, 'model_name': 'gpt-4o-mini-2024-07-18', 'system_fingerprint': 'fp_bba3c8e70b', 'finish_reason': 'stop', 'logprobs': None}, id='run-af9de20a-f905-4972-bfc5-5ec5b707ff4b-0', usage_metadata={'input_tokens': 88, 'output_tokens': 17, 'total_tokens': 105, 'input_token_details': {'audio': 0, 'cache_read': 0}, 'output_token_details': {'audio': 0, 'reasoning': 0}})]}}\n",
      "----\n",
      "{'agent': {'messages': [AIMessage(content='', additional_kwargs={'tool_calls': [{'id': 'call_UFdwE6U5TjsJpVKI40kHzmHu', 'function': {'arguments': '{\"query\":\"San Francisco weather\"}', 'name': 'tavily_search_results_json'}, 'type': 'function'}], 'refusal': None}, response_metadata={'token_usage': {'completion_tokens': 20, 'prompt_tokens': 120, 'total_tokens': 140, 'completion_tokens_details': {'audio_tokens': 0, 'reasoning_tokens': 0, 'accepted_prediction_tokens': 0, 'rejected_prediction_tokens': 0}, 'prompt_tokens_details': {'audio_tokens': 0, 'cached_tokens': 0}}, 'model_name': 'gpt-4o-mini-2024-07-18', 'system_fingerprint': 'fp_bba3c8e70b', 'finish_reason': 'tool_calls', 'logprobs': None}, id='run-809ac445-45e1-45b7-9aec-33bbcf059ec9-0', tool_calls=[{'name': 'tavily_search_results_json', 'args': {'query': 'San Francisco weather'}, 'id': 'call_UFdwE6U5TjsJpVKI40kHzmHu', 'type': 'tool_call'}], usage_metadata={'input_tokens': 120, 'output_tokens': 20, 'total_tokens': 140, 'input_token_details': {'audio': 0, 'cache_read': 0}, 'output_token_details': {'audio': 0, 'reasoning': 0}})]}}\n",
      "----\n",
      "{'tools': {'messages': [ToolMessage(content='[{\"url\": \"https://www.weatherapi.com/\", \"content\": \"{\\'location\\': {\\'name\\': \\'San Francisco\\', \\'region\\': \\'California\\', \\'country\\': \\'United States of America\\', \\'lat\\': 37.775, \\'lon\\': -122.4183, \\'tz_id\\': \\'America/Los_Angeles\\', \\'localtime_epoch\\': 1733951474, \\'localtime\\': \\'2024-12-11 13:11\\'}, \\'current\\': {\\'last_updated_epoch\\': 1733950800, \\'last_updated\\': \\'2024-12-11 13:00\\', \\'temp_c\\': 12.2, \\'temp_f\\': 54.0, \\'is_day\\': 1, \\'condition\\': {\\'text\\': \\'Partly cloudy\\', \\'icon\\': \\'//cdn.weatherapi.com/weather/64x64/day/116.png\\', \\'code\\': 1003}, \\'wind_mph\\': 4.3, \\'wind_kph\\': 6.8, \\'wind_degree\\': 43, \\'wind_dir\\': \\'NE\\', \\'pressure_mb\\': 1021.0, \\'pressure_in\\': 30.15, \\'precip_mm\\': 0.0, \\'precip_in\\': 0.0, \\'humidity\\': 66, \\'cloud\\': 75, \\'feelslike_c\\': 11.8, \\'feelslike_f\\': 53.3, \\'windchill_c\\': 7.7, \\'windchill_f\\': 45.8, \\'heatindex_c\\': 8.8, \\'heatindex_f\\': 47.9, \\'dewpoint_c\\': 6.7, \\'dewpoint_f\\': 44.0, \\'vis_km\\': 16.0, \\'vis_miles\\': 9.0, \\'uv\\': 1.8, \\'gust_mph\\': 5.7, \\'gust_kph\\': 9.2}}\"}, {\"url\": \"https://www.msn.com/en-us/weather/topstories/december-11-2024-san-francisco-bay-area-weather-forecast/vi-AA1vFB5g\", \"content\": \"KRON San Francisco. December 11, 2024 San Francisco Bay Area weather forecast. Posted: December 11, 2024 | Last updated: December 11, 2024. KRON4 Meteorologist John Shrable has the latest updates\"}, {\"url\": \"https://weatherspark.com/h/m/557/2024/11/Historical-Weather-in-November-2024-in-San-Francisco-California-United-States\", \"content\": \"This report shows the past weather for San Francisco, providing a weather history for November 2024. It features all historical weather data series we have available, including the San Francisco temperature history for November 2024. San Francisco Temperature History November 2024 Hourly Temperature in November 2024 in San Francisco Cloud Cover in November 2024 in San Francisco Daily Precipitation in November 2024 in San Francisco Observed Weather in November 2024 in San Francisco Hours of Daylight and Twilight in November 2024 in San Francisco Humidity Comfort Levels in November 2024 in San Francisco Wind Speed in November 2024 in San Francisco Hourly Wind Speed in November 2024 in San Francisco The details of the data sources used for this report can be found on the San Francisco International Airport page.\"}]', name='tavily_search_results_json', id='22ffeb9f-caf6-4d30-ba73-19add990aa4f', tool_call_id='call_UFdwE6U5TjsJpVKI40kHzmHu', artifact={'query': 'San Francisco weather', 'follow_up_questions': None, 'answer': None, 'images': [], 'results': [{'title': 'Weather in San Francisco', 'url': 'https://www.weatherapi.com/', 'content': \"{'location': {'name': 'San Francisco', 'region': 'California', 'country': 'United States of America', 'lat': 37.775, 'lon': -122.4183, 'tz_id': 'America/Los_Angeles', 'localtime_epoch': 1733951474, 'localtime': '2024-12-11 13:11'}, 'current': {'last_updated_epoch': 1733950800, 'last_updated': '2024-12-11 13:00', 'temp_c': 12.2, 'temp_f': 54.0, 'is_day': 1, 'condition': {'text': 'Partly cloudy', 'icon': '//cdn.weatherapi.com/weather/64x64/day/116.png', 'code': 1003}, 'wind_mph': 4.3, 'wind_kph': 6.8, 'wind_degree': 43, 'wind_dir': 'NE', 'pressure_mb': 1021.0, 'pressure_in': 30.15, 'precip_mm': 0.0, 'precip_in': 0.0, 'humidity': 66, 'cloud': 75, 'feelslike_c': 11.8, 'feelslike_f': 53.3, 'windchill_c': 7.7, 'windchill_f': 45.8, 'heatindex_c': 8.8, 'heatindex_f': 47.9, 'dewpoint_c': 6.7, 'dewpoint_f': 44.0, 'vis_km': 16.0, 'vis_miles': 9.0, 'uv': 1.8, 'gust_mph': 5.7, 'gust_kph': 9.2}}\", 'score': 0.9992536, 'raw_content': None}, {'title': 'December 11, 2024 San Francisco Bay Area weather forecast - MSN', 'url': 'https://www.msn.com/en-us/weather/topstories/december-11-2024-san-francisco-bay-area-weather-forecast/vi-AA1vFB5g', 'content': 'KRON San Francisco. December 11, 2024 San Francisco Bay Area weather forecast. Posted: December 11, 2024 | Last updated: December 11, 2024. KRON4 Meteorologist John Shrable has the latest updates', 'score': 0.9957684, 'raw_content': None}, {'title': 'November 2024 Weather History in San Francisco', 'url': 'https://weatherspark.com/h/m/557/2024/11/Historical-Weather-in-November-2024-in-San-Francisco-California-United-States', 'content': 'This report shows the past weather for San Francisco, providing a weather history for November 2024. It features all historical weather data series we have available, including the San Francisco temperature history for November 2024. San Francisco Temperature History November 2024 Hourly Temperature in November 2024 in San Francisco Cloud Cover in November 2024 in San Francisco Daily Precipitation in November 2024 in San Francisco Observed Weather in November 2024 in San Francisco Hours of Daylight and Twilight in November 2024 in San Francisco Humidity Comfort Levels in November 2024 in San Francisco Wind Speed in November 2024 in San Francisco Hourly Wind Speed in November 2024 in San Francisco The details of the data sources used for this report can be found on the San Francisco International Airport page.', 'score': 0.99021614, 'raw_content': None}], 'response_time': 2.74})]}}\n",
      "----\n",
      "{'agent': {'messages': [AIMessage(content='The current weather in San Francisco is partly cloudy with a temperature of about 54°F (12.2°C). Here are some additional details:\\n\\n- **Humidity**: 66%\\n- **Wind**: Northeastern at 4.3 mph (6.8 kph)\\n- **Visibility**: 16 km (9 miles)\\n- **Pressure**: 30.15 inHg (1021.0 mb)\\n\\nIt feels slightly cooler at around 53.3°F (11.8°C) due to the wind chill.\\n\\nIf you want more detailed or updated information, you can check out [WeatherAPI](https://www.weatherapi.com/) or local news outlets.', additional_kwargs={'refusal': None}, response_metadata={'token_usage': {'completion_tokens': 140, 'prompt_tokens': 867, 'total_tokens': 1007, 'completion_tokens_details': {'audio_tokens': 0, 'reasoning_tokens': 0, 'accepted_prediction_tokens': 0, 'rejected_prediction_tokens': 0}, 'prompt_tokens_details': {'audio_tokens': 0, 'cached_tokens': 0}}, 'model_name': 'gpt-4o-mini-2024-07-18', 'system_fingerprint': 'fp_bba3c8e70b', 'finish_reason': 'stop', 'logprobs': None}, id='run-7c5358f7-2be9-4753-8375-1bb0470c58c5-0', usage_metadata={'input_tokens': 867, 'output_tokens': 140, 'total_tokens': 1007, 'input_token_details': {'audio': 0, 'cache_read': 0}, 'output_token_details': {'audio': 0, 'reasoning': 0}})]}}\n",
      "----\n"
     ]
    }
   ],
   "source": [
    "# Use the agent\n",
    "config = {\"configurable\": {\"thread_id\": \"abc123\"}}\n",
    "for chunk in agent_executor.stream(\n",
    "    {\"messages\": [HumanMessage(content=\"hi im bob! and i live in sf\")]}, config\n",
    "):\n",
    "    print(chunk)\n",
    "    print(\"----\")\n",
    "\n",
    "for chunk in agent_executor.stream(\n",
    "    {\"messages\": [HumanMessage(content=\"whats the weather where I live?\")]}, config\n",
    "):\n",
    "    print(chunk)\n",
    "    print(\"----\")"
   ]
  },
  {
   "cell_type": "code",
   "execution_count": null,
   "metadata": {},
   "outputs": [],
   "source": []
  }
 ],
 "metadata": {
  "kernelspec": {
   "display_name": "oreilly-langchain",
   "language": "python",
   "name": "oreilly-langchain"
  },
  "language_info": {
   "codemirror_mode": {
    "name": "ipython",
    "version": 3
   },
   "file_extension": ".py",
   "mimetype": "text/x-python",
   "name": "python",
   "nbconvert_exporter": "python",
   "pygments_lexer": "ipython3",
   "version": "3.11.9"
  }
 },
 "nbformat": 4,
 "nbformat_minor": 2
}
