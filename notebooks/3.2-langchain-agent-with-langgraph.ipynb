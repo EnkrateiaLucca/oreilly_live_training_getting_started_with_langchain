{
 "cells": [
  {
   "cell_type": "code",
   "execution_count": null,
   "metadata": {},
   "outputs": [],
   "source": []
  },
  {
   "cell_type": "code",
   "execution_count": 9,
   "metadata": {},
   "outputs": [],
   "source": [
    "# Import relevant functionality\n",
    "from langchain.chat_models import init_chat_model\n",
    "from langchain_community.tools.tavily_search import TavilySearchResults\n",
    "from langchain_core.messages import HumanMessage\n",
    "from langgraph.checkpoint.memory import MemorySaver\n",
    "from langgraph.prebuilt import create_react_agent"
   ]
  },
  {
   "cell_type": "code",
   "execution_count": 4,
   "metadata": {},
   "outputs": [],
   "source": [
    "# Create the agent\n",
    "memory = MemorySaver()"
   ]
  },
  {
   "cell_type": "code",
   "execution_count": 6,
   "metadata": {},
   "outputs": [
    {
     "data": {
      "text/plain": [
       "AIMessage(content='An agent based on large language models (LLMs) refers to a software entity that utilizes the capabilities of an LLM to perform specific tasks, interact with users, or make decisions. These agents leverage the natural language processing and understanding abilities of LLMs to interpret and generate human-like text, enabling them to engage in conversations, answer questions, provide recommendations, and perform various functions based on textual input.\\n\\nKey characteristics of agents based on LLMs include:\\n\\n1. **Natural Language Understanding**: They can comprehend and process natural language, allowing for smooth interactions with users.\\n\\n2. **Conversational Abilities**: They can engage in dialogue, maintaining context and coherence over multiple exchanges, which enables them to simulate more human-like conversations.\\n\\n3. **Task Performance**: Depending on their design, these agents can perform a range of tasks, such as answering queries, providing summaries, generating content, or assisting with specific applications like customer support, tutoring, or creative writing.\\n\\n4. **Learning and Adaptation**: Some agents may incorporate mechanisms for learning from interactions, allowing them to improve over time or adapt to user preferences.\\n\\n5. **Integrations**: LLM-based agents can be integrated into various platforms and applications, such as chatbots, virtual assistants, or even more complex systems that require natural language interaction.\\n\\n6. **Automation**: They can automate repetitive tasks by interpreting user requests and executing predefined actions based on those requests.\\n\\nOverall, LLM-based agents represent a significant advancement in AI and natural language processing, enabling more interactive and intelligent systems that can assist users in a variety of contexts.', additional_kwargs={'refusal': None}, response_metadata={'token_usage': {'completion_tokens': 322, 'prompt_tokens': 17, 'total_tokens': 339, 'completion_tokens_details': {'audio_tokens': 0, 'reasoning_tokens': 0, 'accepted_prediction_tokens': 0, 'rejected_prediction_tokens': 0}, 'prompt_tokens_details': {'audio_tokens': 0, 'cached_tokens': 0}}, 'model_name': 'gpt-4o-mini-2024-07-18', 'system_fingerprint': 'fp_8bda4d3a2c', 'finish_reason': 'stop', 'logprobs': None}, id='run--b0773ac7-ea1e-4136-bb55-28fd55cbebce-0', usage_metadata={'input_tokens': 17, 'output_tokens': 322, 'total_tokens': 339, 'input_token_details': {'audio': 0, 'cache_read': 0}, 'output_token_details': {'audio': 0, 'reasoning': 0}})"
      ]
     },
     "execution_count": 6,
     "metadata": {},
     "output_type": "execute_result"
    }
   ],
   "source": [
    "llm = init_chat_model(model=\"gpt-4o-mini\")\n",
    "\n",
    "\n",
    "llm.invoke(\"What is an agent based on large language models?\")"
   ]
  },
  {
   "cell_type": "code",
   "execution_count": 7,
   "metadata": {},
   "outputs": [
    {
     "name": "stderr",
     "output_type": "stream",
     "text": [
      "/var/folders/5l/y8s3fc655417629rqwgxkhx80000gn/T/ipykernel_59257/1731400840.py:1: LangChainDeprecationWarning: The class `TavilySearchResults` was deprecated in LangChain 0.3.25 and will be removed in 1.0. An updated version of the class exists in the :class:`~langchain-tavily package and should be used instead. To use it run `pip install -U :class:`~langchain-tavily` and import as `from :class:`~langchain_tavily import TavilySearch``.\n",
      "  search = TavilySearchResults(max_results=3)\n"
     ]
    }
   ],
   "source": [
    "search = TavilySearchResults(max_results=3)"
   ]
  },
  {
   "cell_type": "code",
   "execution_count": 10,
   "metadata": {},
   "outputs": [],
   "source": [
    "tools = [search]"
   ]
  },
  {
   "cell_type": "code",
   "execution_count": 11,
   "metadata": {},
   "outputs": [],
   "source": [
    "agent_executor = create_react_agent(llm, tools, checkpointer=memory)"
   ]
  },
  {
   "cell_type": "code",
   "execution_count": 12,
   "metadata": {},
   "outputs": [
    {
     "data": {
      "image/png": "[encoded data removed]",
      "text/plain": [
       "<IPython.core.display.Image object>"
      ]
     },
     "metadata": {},
     "output_type": "display_data"
    }
   ],
   "source": [
    "from IPython.display import Image, display\n",
    "\n",
    "display(Image(agent_executor.get_graph().draw_mermaid_png()))"
   ]
  },
  {
   "cell_type": "code",
   "execution_count": 14,
   "metadata": {},
   "outputs": [
    {
     "data": {
      "text/plain": [
       "{'messages': [HumanMessage(content='How did langgraph improved with respect to langchain as an LLM application framework?', additional_kwargs={}, response_metadata={}, id='c4d5c7da-fe27-4408-ad6a-f31bd35352ac'),\n",
       "  AIMessage(content='', additional_kwargs={'tool_calls': [{'id': 'call_kK3p6H6zouMcklLTZUCNkKNd', 'function': {'arguments': '{\"query\":\"Langgraph improvements over Langchain LLM application framework\"}', 'name': 'tavily_search_results_json'}, 'type': 'function'}], 'refusal': None}, response_metadata={'token_usage': {'completion_tokens': 27, 'prompt_tokens': 96, 'total_tokens': 123, 'completion_tokens_details': {'audio_tokens': 0, 'reasoning_tokens': 0, 'accepted_prediction_tokens': 0, 'rejected_prediction_tokens': 0}, 'prompt_tokens_details': {'audio_tokens': 0, 'cached_tokens': 0}}, 'model_name': 'gpt-4o-mini-2024-07-18', 'system_fingerprint': 'fp_8bda4d3a2c', 'finish_reason': 'tool_calls', 'logprobs': None}, id='run--b05b728d-b29a-4656-9945-132ef98ee512-0', tool_calls=[{'name': 'tavily_search_results_json', 'args': {'query': 'Langgraph improvements over Langchain LLM application framework'}, 'id': 'call_kK3p6H6zouMcklLTZUCNkKNd', 'type': 'tool_call'}], usage_metadata={'input_tokens': 96, 'output_tokens': 27, 'total_tokens': 123, 'input_token_details': {'audio': 0, 'cache_read': 0}, 'output_token_details': {'audio': 0, 'reasoning': 0}}),\n",
       "  ToolMessage(content='[{\"title\": \"Langchain vs Langgraph: Ultimate Framework Comparison - Orq.ai\", \"url\": \"https://orq.ai/blog/langchain-vs-langgraph\", \"content\": \"LangChain offers a modular system for creating customizable AI workflows, while LangGraph builds on this with stateful orchestration for complex, real-time agent-based systems. Though both frameworks are powerful, they cater to different needs in LLM product development. [...] LangChain is a modular framework designed for building LLM-powered applications, offering flexibility through components like chains, agents, and memory.\\\\n\\\\nLangGraph focuses on stateful orchestration, enabling multi-agent workflows and complex decision-making through a graph-based structure.\\\\n\\\\nTeams looking for an end-to-end solution can explore alternatives like Orq.ai, which streamlines LLM development, deployment, and optimization in a unified platform. [...] In the world of Generative AI development, both LangChain and LangGraph offer unique strengths that cater to different needs. LangChain excels in its modular development approach, allowing teams to create highly customizable LLM workflows that are flexible and scalable. Its ability to integrate various components—such as prompts, chains, agents, and memory—makes it a powerful tool for building complex NLP and agentic applications. On the other hand, LangGraph focuses on orchestrating stateful,\", \"score\": 0.8259413}, {\"title\": \"Expert Langgraph vs Langchain Guide to Master AI Automation\", \"url\": \"https://blog.lamatic.ai/guides/langgraph-vs-langchain/\", \"content\": \"## What are LangChain and LangGraph?\\\\n\\\\nLangChain and LangGraph are frameworks designed to help developers build applications powered by large language models (LLMs). While LangChain is constructed to create modular applications by chaining operations, LangGraph extends LangChain by introducing graph-based workflows for more complex, multi-step AI applications.\\\\n\\\\n### LangChain: Chaining LLM Operations [...] Both frameworks support chaining multiple tasks or operations, often involving different LLMs or data processing steps. This is crucial for creating complex applications in which the outputs of one step feed into subsequent ones.\\\\n\\\\n### Integration with External Data Sources\\\\n\\\\nLangChain and LangGraph can connect to various data sources (e.g., databases, APIs, and files) to retrieve, process, and enrich data for LLMs. This enables developers to combine static prompts with dynamic, real-time data. [...] Although they have unique approaches, each makes it easy for developers to manage tasks and dependencies, allowing them to create sophisticated LLM applications.\\\\n\\\\n### Primary Focus on LLM-Oriented Workflows\\\\n\\\\nLangChain and LangGraph orchestrate LLM-based applications, allowing developers to build pipelines involving multiple models and tasks. This core focus on LLMs distinguishes them from general-purpose workflow orchestration tools like Apache Airflow or Luigi.\\\\n\\\\n### Support for Task Chaining\", \"score\": 0.79901963}, {\"title\": \"LangChain vs LangGraph: Which LLM Framework is Right for You?\", \"url\": \"https://datafloq.com/read/langchain-vs-langgraph-which-llm-framework-is-right-for-you/\", \"content\": \"LangChain and LangGraph are important players in the LLM Ecosystem. If you want the most flexible, beginner-friendly framework for building standard LLM apps, choose LangChain; however, if your project requires complex, stateful workflows with multiple agents or decision points, LangGraph is the better option. Many developers use both LangChain for integration and LangGraph for more advanced logic. [...] LangGraph is an innovative framework built to expand the capabilities of LangChain and add structure and clarity to complex LLM workflows. Rather than taking a normal linear workflow, it follows a graph-based workflow model, where each of the workflow steps, such as LLM calls, tools, and decision points, acts as a node connected by edges that specify the information flow.\", \"score\": 0.77893573}]', name='tavily_search_results_json', id='3340f51b-ca40-45dc-8532-e645f275bf33', tool_call_id='call_kK3p6H6zouMcklLTZUCNkKNd', artifact={'query': 'Langgraph improvements over Langchain LLM application framework', 'follow_up_questions': None, 'answer': None, 'images': [], 'results': [{'url': 'https://orq.ai/blog/langchain-vs-langgraph', 'title': 'Langchain vs Langgraph: Ultimate Framework Comparison - Orq.ai', 'content': 'LangChain offers a modular system for creating customizable AI workflows, while LangGraph builds on this with stateful orchestration for complex, real-time agent-based systems. Though both frameworks are powerful, they cater to different needs in LLM product development. [...] LangChain is a modular framework designed for building LLM-powered applications, offering flexibility through components like chains, agents, and memory.\\n\\nLangGraph focuses on stateful orchestration, enabling multi-agent workflows and complex decision-making through a graph-based structure.\\n\\nTeams looking for an end-to-end solution can explore alternatives like Orq.ai, which streamlines LLM development, deployment, and optimization in a unified platform. [...] In the world of Generative AI development, both LangChain and LangGraph offer unique strengths that cater to different needs. LangChain excels in its modular development approach, allowing teams to create highly customizable LLM workflows that are flexible and scalable. Its ability to integrate various components—such as prompts, chains, agents, and memory—makes it a powerful tool for building complex NLP and agentic applications. On the other hand, LangGraph focuses on orchestrating stateful,', 'score': 0.8259413, 'raw_content': None}, {'url': 'https://blog.lamatic.ai/guides/langgraph-vs-langchain/', 'title': 'Expert Langgraph vs Langchain Guide to Master AI Automation', 'content': '## What are LangChain and LangGraph?\\n\\nLangChain and LangGraph are frameworks designed to help developers build applications powered by large language models (LLMs). While LangChain is constructed to create modular applications by chaining operations, LangGraph extends LangChain by introducing graph-based workflows for more complex, multi-step AI applications.\\n\\n### LangChain: Chaining LLM Operations [...] Both frameworks support chaining multiple tasks or operations, often involving different LLMs or data processing steps. This is crucial for creating complex applications in which the outputs of one step feed into subsequent ones.\\n\\n### Integration with External Data Sources\\n\\nLangChain and LangGraph can connect to various data sources (e.g., databases, APIs, and files) to retrieve, process, and enrich data for LLMs. This enables developers to combine static prompts with dynamic, real-time data. [...] Although they have unique approaches, each makes it easy for developers to manage tasks and dependencies, allowing them to create sophisticated LLM applications.\\n\\n### Primary Focus on LLM-Oriented Workflows\\n\\nLangChain and LangGraph orchestrate LLM-based applications, allowing developers to build pipelines involving multiple models and tasks. This core focus on LLMs distinguishes them from general-purpose workflow orchestration tools like Apache Airflow or Luigi.\\n\\n### Support for Task Chaining', 'score': 0.79901963, 'raw_content': None}, {'url': 'https://datafloq.com/read/langchain-vs-langgraph-which-llm-framework-is-right-for-you/', 'title': 'LangChain vs LangGraph: Which LLM Framework is Right for You?', 'content': 'LangChain and LangGraph are important players in the LLM Ecosystem. If you want the most flexible, beginner-friendly framework for building standard LLM apps, choose LangChain; however, if your project requires complex, stateful workflows with multiple agents or decision points, LangGraph is the better option. Many developers use both LangChain for integration and LangGraph for more advanced logic. [...] LangGraph is an innovative framework built to expand the capabilities of LangChain and add structure and clarity to complex LLM workflows. Rather than taking a normal linear workflow, it follows a graph-based workflow model, where each of the workflow steps, such as LLM calls, tools, and decision points, acts as a node connected by edges that specify the information flow.', 'score': 0.77893573, 'raw_content': None}], 'response_time': 1.64, 'request_id': 'ff4cd2a6-505b-40f0-b948-34f09be308f3'}),\n",
       "  AIMessage(content=\"Langgraph has introduced several improvements over Langchain as an LLM application framework, primarily focusing on more complex and stateful orchestration of workflows. Here are some key differences and enhancements:\\n\\n1. **Graph-Based Workflows**: While Langchain is designed for chaining operations, Langgraph extends this foundation by implementing graph-based workflows. This allows for more complex multi-step applications where each operation can be treated as a node in a graph, connected by edges that define the flow of information. This structure facilitates better management of dependencies and task relationships.\\n\\n2. **Stateful Orchestration**: Langgraph emphasizes stateful orchestration, enabling the development of real-time, multi-agent workflows. This is particularly beneficial for applications requiring complex decision-making processes and interactions among various agents, which is a step beyond what Langchain typically offers.\\n\\n3. **Complex Decision-Making**: The ability to handle intricate logic and multi-agent interactions makes Langgraph a suitable choice for projects that necessitate advanced workflows. It provides improved clarity and structure for developers working on sophisticated LLM applications.\\n\\n4. **Integration with External Data Sources**: Both frameworks support integration with various data sources (APIs, databases, etc.), but Langgraph's enhancements in handling real-time data and dynamic prompts allow for more versatile applications.\\n\\n5. **Use Cases**: Langchain is often favored for standard LLM applications due to its flexibility and beginner-friendly approach. In contrast, Langgraph is recommended for projects that involve intricate workflows and require robust orchestration capabilities.\\n\\nThese advancements position Langgraph as a powerful complement to Langchain, catering to more complex application requirements in the LLM development landscape.\", additional_kwargs={'refusal': None}, response_metadata={'token_usage': {'completion_tokens': 331, 'prompt_tokens': 950, 'total_tokens': 1281, 'completion_tokens_details': {'audio_tokens': 0, 'reasoning_tokens': 0, 'accepted_prediction_tokens': 0, 'rejected_prediction_tokens': 0}, 'prompt_tokens_details': {'audio_tokens': 0, 'cached_tokens': 0}}, 'model_name': 'gpt-4o-mini-2024-07-18', 'system_fingerprint': 'fp_8bda4d3a2c', 'finish_reason': 'stop', 'logprobs': None}, id='run--848dff5e-4369-46db-b910-65eee3b76cf4-0', usage_metadata={'input_tokens': 950, 'output_tokens': 331, 'total_tokens': 1281, 'input_token_details': {'audio': 0, 'cache_read': 0}, 'output_token_details': {'audio': 0, 'reasoning': 0}})]}"
      ]
     },
     "execution_count": 14,
     "metadata": {},
     "output_type": "execute_result"
    }
   ],
   "source": [
    "agent_executor.invoke({\"messages\": [HumanMessage(content=\"How did langgraph improved with respect to langchain as an LLM application framework?\")]},config = {\"configurable\": {\"thread_id\": \"abc123\"}})"
   ]
  },
  {
   "cell_type": "code",
   "execution_count": 8,
   "metadata": {},
   "outputs": [
    {
     "name": "stdout",
     "output_type": "stream",
     "text": [
      "{'agent': {'messages': [AIMessage(content=\"Hi Bob! It's great to meet you. How's life in San Francisco?\", additional_kwargs={'refusal': None}, response_metadata={'token_usage': {'completion_tokens': 17, 'prompt_tokens': 88, 'total_tokens': 105, 'completion_tokens_details': {'audio_tokens': 0, 'reasoning_tokens': 0, 'accepted_prediction_tokens': 0, 'rejected_prediction_tokens': 0}, 'prompt_tokens_details': {'audio_tokens': 0, 'cached_tokens': 0}}, 'model_name': 'gpt-4o-mini-2024-07-18', 'system_fingerprint': 'fp_bba3c8e70b', 'finish_reason': 'stop', 'logprobs': None}, id='run-af9de20a-f905-4972-bfc5-5ec5b707ff4b-0', usage_metadata={'input_tokens': 88, 'output_tokens': 17, 'total_tokens': 105, 'input_token_details': {'audio': 0, 'cache_read': 0}, 'output_token_details': {'audio': 0, 'reasoning': 0}})]}}\n",
      "----\n",
      "{'agent': {'messages': [AIMessage(content='', additional_kwargs={'tool_calls': [{'id': 'call_UFdwE6U5TjsJpVKI40kHzmHu', 'function': {'arguments': '{\"query\":\"San Francisco weather\"}', 'name': 'tavily_search_results_json'}, 'type': 'function'}], 'refusal': None}, response_metadata={'token_usage': {'completion_tokens': 20, 'prompt_tokens': 120, 'total_tokens': 140, 'completion_tokens_details': {'audio_tokens': 0, 'reasoning_tokens': 0, 'accepted_prediction_tokens': 0, 'rejected_prediction_tokens': 0}, 'prompt_tokens_details': {'audio_tokens': 0, 'cached_tokens': 0}}, 'model_name': 'gpt-4o-mini-2024-07-18', 'system_fingerprint': 'fp_bba3c8e70b', 'finish_reason': 'tool_calls', 'logprobs': None}, id='run-809ac445-45e1-45b7-9aec-33bbcf059ec9-0', tool_calls=[{'name': 'tavily_search_results_json', 'args': {'query': 'San Francisco weather'}, 'id': 'call_UFdwE6U5TjsJpVKI40kHzmHu', 'type': 'tool_call'}], usage_metadata={'input_tokens': 120, 'output_tokens': 20, 'total_tokens': 140, 'input_token_details': {'audio': 0, 'cache_read': 0}, 'output_token_details': {'audio': 0, 'reasoning': 0}})]}}\n",
      "----\n",
      "{'tools': {'messages': [ToolMessage(content='[{\"url\": \"https://www.weatherapi.com/\", \"content\": \"{\\'location\\': {\\'name\\': \\'San Francisco\\', \\'region\\': \\'California\\', \\'country\\': \\'United States of America\\', \\'lat\\': 37.775, \\'lon\\': -122.4183, \\'tz_id\\': \\'America/Los_Angeles\\', \\'localtime_epoch\\': 1733951474, \\'localtime\\': \\'2024-12-11 13:11\\'}, \\'current\\': {\\'last_updated_epoch\\': 1733950800, \\'last_updated\\': \\'2024-12-11 13:00\\', \\'temp_c\\': 12.2, \\'temp_f\\': 54.0, \\'is_day\\': 1, \\'condition\\': {\\'text\\': \\'Partly cloudy\\', \\'icon\\': \\'//cdn.weatherapi.com/weather/64x64/day/116.png\\', \\'code\\': 1003}, \\'wind_mph\\': 4.3, \\'wind_kph\\': 6.8, \\'wind_degree\\': 43, \\'wind_dir\\': \\'NE\\', \\'pressure_mb\\': 1021.0, \\'pressure_in\\': 30.15, \\'precip_mm\\': 0.0, \\'precip_in\\': 0.0, \\'humidity\\': 66, \\'cloud\\': 75, \\'feelslike_c\\': 11.8, \\'feelslike_f\\': 53.3, \\'windchill_c\\': 7.7, \\'windchill_f\\': 45.8, \\'heatindex_c\\': 8.8, \\'heatindex_f\\': 47.9, \\'dewpoint_c\\': 6.7, \\'dewpoint_f\\': 44.0, \\'vis_km\\': 16.0, \\'vis_miles\\': 9.0, \\'uv\\': 1.8, \\'gust_mph\\': 5.7, \\'gust_kph\\': 9.2}}\"}, {\"url\": \"https://www.msn.com/en-us/weather/topstories/december-11-2024-san-francisco-bay-area-weather-forecast/vi-AA1vFB5g\", \"content\": \"KRON San Francisco. December 11, 2024 San Francisco Bay Area weather forecast. Posted: December 11, 2024 | Last updated: December 11, 2024. KRON4 Meteorologist John Shrable has the latest updates\"}, {\"url\": \"https://weatherspark.com/h/m/557/2024/11/Historical-Weather-in-November-2024-in-San-Francisco-California-United-States\", \"content\": \"This report shows the past weather for San Francisco, providing a weather history for November 2024. It features all historical weather data series we have available, including the San Francisco temperature history for November 2024. San Francisco Temperature History November 2024 Hourly Temperature in November 2024 in San Francisco Cloud Cover in November 2024 in San Francisco Daily Precipitation in November 2024 in San Francisco Observed Weather in November 2024 in San Francisco Hours of Daylight and Twilight in November 2024 in San Francisco Humidity Comfort Levels in November 2024 in San Francisco Wind Speed in November 2024 in San Francisco Hourly Wind Speed in November 2024 in San Francisco The details of the data sources used for this report can be found on the San Francisco International Airport page.\"}]', name='tavily_search_results_json', id='22ffeb9f-caf6-4d30-ba73-19add990aa4f', tool_call_id='call_UFdwE6U5TjsJpVKI40kHzmHu', artifact={'query': 'San Francisco weather', 'follow_up_questions': None, 'answer': None, 'images': [], 'results': [{'title': 'Weather in San Francisco', 'url': 'https://www.weatherapi.com/', 'content': \"{'location': {'name': 'San Francisco', 'region': 'California', 'country': 'United States of America', 'lat': 37.775, 'lon': -122.4183, 'tz_id': 'America/Los_Angeles', 'localtime_epoch': 1733951474, 'localtime': '2024-12-11 13:11'}, 'current': {'last_updated_epoch': 1733950800, 'last_updated': '2024-12-11 13:00', 'temp_c': 12.2, 'temp_f': 54.0, 'is_day': 1, 'condition': {'text': 'Partly cloudy', 'icon': '//cdn.weatherapi.com/weather/64x64/day/116.png', 'code': 1003}, 'wind_mph': 4.3, 'wind_kph': 6.8, 'wind_degree': 43, 'wind_dir': 'NE', 'pressure_mb': 1021.0, 'pressure_in': 30.15, 'precip_mm': 0.0, 'precip_in': 0.0, 'humidity': 66, 'cloud': 75, 'feelslike_c': 11.8, 'feelslike_f': 53.3, 'windchill_c': 7.7, 'windchill_f': 45.8, 'heatindex_c': 8.8, 'heatindex_f': 47.9, 'dewpoint_c': 6.7, 'dewpoint_f': 44.0, 'vis_km': 16.0, 'vis_miles': 9.0, 'uv': 1.8, 'gust_mph': 5.7, 'gust_kph': 9.2}}\", 'score': 0.9992536, 'raw_content': None}, {'title': 'December 11, 2024 San Francisco Bay Area weather forecast - MSN', 'url': 'https://www.msn.com/en-us/weather/topstories/december-11-2024-san-francisco-bay-area-weather-forecast/vi-AA1vFB5g', 'content': 'KRON San Francisco. December 11, 2024 San Francisco Bay Area weather forecast. Posted: December 11, 2024 | Last updated: December 11, 2024. KRON4 Meteorologist John Shrable has the latest updates', 'score': 0.9957684, 'raw_content': None}, {'title': 'November 2024 Weather History in San Francisco', 'url': 'https://weatherspark.com/h/m/557/2024/11/Historical-Weather-in-November-2024-in-San-Francisco-California-United-States', 'content': 'This report shows the past weather for San Francisco, providing a weather history for November 2024. It features all historical weather data series we have available, including the San Francisco temperature history for November 2024. San Francisco Temperature History November 2024 Hourly Temperature in November 2024 in San Francisco Cloud Cover in November 2024 in San Francisco Daily Precipitation in November 2024 in San Francisco Observed Weather in November 2024 in San Francisco Hours of Daylight and Twilight in November 2024 in San Francisco Humidity Comfort Levels in November 2024 in San Francisco Wind Speed in November 2024 in San Francisco Hourly Wind Speed in November 2024 in San Francisco The details of the data sources used for this report can be found on the San Francisco International Airport page.', 'score': 0.99021614, 'raw_content': None}], 'response_time': 2.74})]}}\n",
      "----\n",
      "{'agent': {'messages': [AIMessage(content='The current weather in San Francisco is partly cloudy with a temperature of about 54°F (12.2°C). Here are some additional details:\\n\\n- **Humidity**: 66%\\n- **Wind**: Northeastern at 4.3 mph (6.8 kph)\\n- **Visibility**: 16 km (9 miles)\\n- **Pressure**: 30.15 inHg (1021.0 mb)\\n\\nIt feels slightly cooler at around 53.3°F (11.8°C) due to the wind chill.\\n\\nIf you want more detailed or updated information, you can check out [WeatherAPI](https://www.weatherapi.com/) or local news outlets.', additional_kwargs={'refusal': None}, response_metadata={'token_usage': {'completion_tokens': 140, 'prompt_tokens': 867, 'total_tokens': 1007, 'completion_tokens_details': {'audio_tokens': 0, 'reasoning_tokens': 0, 'accepted_prediction_tokens': 0, 'rejected_prediction_tokens': 0}, 'prompt_tokens_details': {'audio_tokens': 0, 'cached_tokens': 0}}, 'model_name': 'gpt-4o-mini-2024-07-18', 'system_fingerprint': 'fp_bba3c8e70b', 'finish_reason': 'stop', 'logprobs': None}, id='run-7c5358f7-2be9-4753-8375-1bb0470c58c5-0', usage_metadata={'input_tokens': 867, 'output_tokens': 140, 'total_tokens': 1007, 'input_token_details': {'audio': 0, 'cache_read': 0}, 'output_token_details': {'audio': 0, 'reasoning': 0}})]}}\n",
      "----\n"
     ]
    }
   ],
   "source": [
    "# Use the agent\n",
    "config = {\"configurable\": {\"thread_id\": \"abc123\"}}\n",
    "for chunk in agent_executor.stream(\n",
    "    {\"messages\": [HumanMessage(content=\"hi im bob! and i live in sf\")]}, config\n",
    "):\n",
    "    print(chunk)\n",
    "    print(\"----\")\n",
    "\n",
    "for chunk in agent_executor.stream(\n",
    "    {\"messages\": [HumanMessage(content=\"whats the weather where I live?\")]}, config\n",
    "):\n",
    "    print(chunk)\n",
    "    print(\"----\")"
   ]
  },
  {
   "cell_type": "code",
   "execution_count": null,
   "metadata": {},
   "outputs": [],
   "source": []
  },
  {
   "cell_type": "code",
   "execution_count": null,
   "metadata": {},
   "outputs": [],
   "source": []
  }
 ],
 "metadata": {
  "kernelspec": {
   "display_name": "oreilly-langchain",
   "language": "python",
   "name": "oreilly-langchain"
  },
  "language_info": {
   "codemirror_mode": {
    "name": "ipython",
    "version": 3
   },
   "file_extension": ".py",
   "mimetype": "text/x-python",
   "name": "python",
   "nbconvert_exporter": "python",
   "pygments_lexer": "ipython3",
   "version": "3.11.9"
  }
 },
 "nbformat": 4,
 "nbformat_minor": 2
}
