{
 "cells": [
  {
   "cell_type": "code",
   "execution_count": null,
   "metadata": {},
   "outputs": [],
   "source": []
  },
  {
   "cell_type": "code",
   "execution_count": 1,
   "metadata": {},
   "outputs": [],
   "source": [
    "# Import relevant functionality\n",
    "from langchain_openai import ChatOpenAI\n",
    "from langchain_community.tools.tavily_search import TavilySearchResults\n",
    "from langchain_core.messages import HumanMessage\n",
    "from langgraph.checkpoint.memory import MemorySaver\n",
    "from langgraph.prebuilt import create_react_agent"
   ]
  },
  {
   "cell_type": "code",
   "execution_count": 2,
   "metadata": {},
   "outputs": [],
   "source": [
    "# Create the agent\n",
    "memory = MemorySaver()"
   ]
  },
  {
   "cell_type": "code",
   "execution_count": 3,
   "metadata": {},
   "outputs": [
    {
     "data": {
      "text/plain": [
       "AIMessage(content='An agent based on large language models (LLMs) refers to a software entity or system that utilizes the capabilities of LLMs to perform tasks, interact with users, and make decisions based on natural language input. These agents can be designed for a variety of applications, including customer support, content generation, virtual assistants, and more. Here are some key characteristics and functionalities of such agents:\\n\\n1. **Natural Language Understanding (NLU)**: Agents leverage LLMs to comprehend and interpret user inputs in natural language, allowing for more intuitive interactions.\\n\\n2. **Natural Language Generation (NLG)**: They can generate human-like text responses, making conversations more engaging and contextually relevant.\\n\\n3. **Context Awareness**: Advanced agents can maintain context over a conversation, enabling more coherent and meaningful interactions over multiple exchanges.\\n\\n4. **Task Execution**: Agents may perform specific tasks such as answering questions, providing recommendations, or even executing commands, depending on their design and the context of the interaction.\\n\\n5. **Learning and Adaptation**: Some agents can learn from user interactions over time, improving their responses and functionalities based on feedback and usage patterns.\\n\\n6. **Integration with Other Systems**: Agents can often be integrated with other software systems and databases to access real-time information, manage tasks, or pull in relevant data to enhance their responses.\\n\\n7. **Personalization**: They can be designed to tailor responses based on user preferences or previous interactions, creating a more personalized experience.\\n\\nExamples of agents based on large language models include chatbots, virtual personal assistants like Siri or Google Assistant, and automated customer service representatives. These agents are increasingly being used across various industries to enhance user experience and streamline operations.', additional_kwargs={'refusal': None}, response_metadata={'token_usage': {'completion_tokens': 343, 'prompt_tokens': 17, 'total_tokens': 360, 'completion_tokens_details': {'audio_tokens': 0, 'reasoning_tokens': 0, 'accepted_prediction_tokens': 0, 'rejected_prediction_tokens': 0}, 'prompt_tokens_details': {'audio_tokens': 0, 'cached_tokens': 0}}, 'model_name': 'gpt-4o-mini-2024-07-18', 'system_fingerprint': 'fp_06737a9306', 'finish_reason': 'stop', 'logprobs': None}, id='run-cf74da99-bcea-44ae-a8ce-dcc26ac0d85b-0', usage_metadata={'input_tokens': 17, 'output_tokens': 343, 'total_tokens': 360, 'input_token_details': {'audio': 0, 'cache_read': 0}, 'output_token_details': {'audio': 0, 'reasoning': 0}})"
      ]
     },
     "execution_count": 3,
     "metadata": {},
     "output_type": "execute_result"
    }
   ],
   "source": [
    "llm = ChatOpenAI(model_name=\"gpt-4o-mini\")\n",
    "\n",
    "\n",
    "llm.invoke(\"What is an agent based on large language models?\")"
   ]
  },
  {
   "cell_type": "code",
   "execution_count": 4,
   "metadata": {},
   "outputs": [],
   "source": [
    "search = TavilySearchResults(max_results=3)"
   ]
  },
  {
   "cell_type": "code",
   "execution_count": 5,
   "metadata": {},
   "outputs": [],
   "source": [
    "tools = [search]"
   ]
  },
  {
   "cell_type": "code",
   "execution_count": 6,
   "metadata": {},
   "outputs": [
    {
     "ename": "NameError",
     "evalue": "name 'agent_executor' is not defined",
     "output_type": "error",
     "traceback": [
      "\u001b[0;31m---------------------------------------------------------------------------\u001b[0m",
      "\u001b[0;31mNameError\u001b[0m                                 Traceback (most recent call last)",
      "Cell \u001b[0;32mIn[6], line 1\u001b[0m\n\u001b[0;32m----> 1\u001b[0m \u001b[43magent_executor\u001b[49m\n",
      "\u001b[0;31mNameError\u001b[0m: name 'agent_executor' is not defined"
     ]
    }
   ],
   "source": [
    "agent_executor"
   ]
  },
  {
   "cell_type": "code",
   "execution_count": 7,
   "metadata": {},
   "outputs": [],
   "source": [
    "agent_executor = create_react_agent(llm, tools, checkpointer=memory)"
   ]
  },
  {
   "cell_type": "code",
   "execution_count": 8,
   "metadata": {},
   "outputs": [
    {
     "name": "stdout",
     "output_type": "stream",
     "text": [
      "{'agent': {'messages': [AIMessage(content=\"Hi Bob! It's great to meet you. How's life in San Francisco?\", additional_kwargs={'refusal': None}, response_metadata={'token_usage': {'completion_tokens': 17, 'prompt_tokens': 88, 'total_tokens': 105, 'completion_tokens_details': {'audio_tokens': 0, 'reasoning_tokens': 0, 'accepted_prediction_tokens': 0, 'rejected_prediction_tokens': 0}, 'prompt_tokens_details': {'audio_tokens': 0, 'cached_tokens': 0}}, 'model_name': 'gpt-4o-mini-2024-07-18', 'system_fingerprint': 'fp_bba3c8e70b', 'finish_reason': 'stop', 'logprobs': None}, id='run-af9de20a-f905-4972-bfc5-5ec5b707ff4b-0', usage_metadata={'input_tokens': 88, 'output_tokens': 17, 'total_tokens': 105, 'input_token_details': {'audio': 0, 'cache_read': 0}, 'output_token_details': {'audio': 0, 'reasoning': 0}})]}}\n",
      "----\n",
      "{'agent': {'messages': [AIMessage(content='', additional_kwargs={'tool_calls': [{'id': 'call_UFdwE6U5TjsJpVKI40kHzmHu', 'function': {'arguments': '{\"query\":\"San Francisco weather\"}', 'name': 'tavily_search_results_json'}, 'type': 'function'}], 'refusal': None}, response_metadata={'token_usage': {'completion_tokens': 20, 'prompt_tokens': 120, 'total_tokens': 140, 'completion_tokens_details': {'audio_tokens': 0, 'reasoning_tokens': 0, 'accepted_prediction_tokens': 0, 'rejected_prediction_tokens': 0}, 'prompt_tokens_details': {'audio_tokens': 0, 'cached_tokens': 0}}, 'model_name': 'gpt-4o-mini-2024-07-18', 'system_fingerprint': 'fp_bba3c8e70b', 'finish_reason': 'tool_calls', 'logprobs': None}, id='run-809ac445-45e1-45b7-9aec-33bbcf059ec9-0', tool_calls=[{'name': 'tavily_search_results_json', 'args': {'query': 'San Francisco weather'}, 'id': 'call_UFdwE6U5TjsJpVKI40kHzmHu', 'type': 'tool_call'}], usage_metadata={'input_tokens': 120, 'output_tokens': 20, 'total_tokens': 140, 'input_token_details': {'audio': 0, 'cache_read': 0}, 'output_token_details': {'audio': 0, 'reasoning': 0}})]}}\n",
      "----\n",
      "{'tools': {'messages': [ToolMessage(content='[{\"url\": \"https://www.weatherapi.com/\", \"content\": \"{\\'location\\': {\\'name\\': \\'San Francisco\\', \\'region\\': \\'California\\', \\'country\\': \\'United States of America\\', \\'lat\\': 37.775, \\'lon\\': -122.4183, \\'tz_id\\': \\'America/Los_Angeles\\', \\'localtime_epoch\\': 1733951474, \\'localtime\\': \\'2024-12-11 13:11\\'}, \\'current\\': {\\'last_updated_epoch\\': 1733950800, \\'last_updated\\': \\'2024-12-11 13:00\\', \\'temp_c\\': 12.2, \\'temp_f\\': 54.0, \\'is_day\\': 1, \\'condition\\': {\\'text\\': \\'Partly cloudy\\', \\'icon\\': \\'//cdn.weatherapi.com/weather/64x64/day/116.png\\', \\'code\\': 1003}, \\'wind_mph\\': 4.3, \\'wind_kph\\': 6.8, \\'wind_degree\\': 43, \\'wind_dir\\': \\'NE\\', \\'pressure_mb\\': 1021.0, \\'pressure_in\\': 30.15, \\'precip_mm\\': 0.0, \\'precip_in\\': 0.0, \\'humidity\\': 66, \\'cloud\\': 75, \\'feelslike_c\\': 11.8, \\'feelslike_f\\': 53.3, \\'windchill_c\\': 7.7, \\'windchill_f\\': 45.8, \\'heatindex_c\\': 8.8, \\'heatindex_f\\': 47.9, \\'dewpoint_c\\': 6.7, \\'dewpoint_f\\': 44.0, \\'vis_km\\': 16.0, \\'vis_miles\\': 9.0, \\'uv\\': 1.8, \\'gust_mph\\': 5.7, \\'gust_kph\\': 9.2}}\"}, {\"url\": \"https://www.msn.com/en-us/weather/topstories/december-11-2024-san-francisco-bay-area-weather-forecast/vi-AA1vFB5g\", \"content\": \"KRON San Francisco. December 11, 2024 San Francisco Bay Area weather forecast. Posted: December 11, 2024 | Last updated: December 11, 2024. KRON4 Meteorologist John Shrable has the latest updates\"}, {\"url\": \"https://weatherspark.com/h/m/557/2024/11/Historical-Weather-in-November-2024-in-San-Francisco-California-United-States\", \"content\": \"This report shows the past weather for San Francisco, providing a weather history for November 2024. It features all historical weather data series we have available, including the San Francisco temperature history for November 2024. San Francisco Temperature History November 2024 Hourly Temperature in November 2024 in San Francisco Cloud Cover in November 2024 in San Francisco Daily Precipitation in November 2024 in San Francisco Observed Weather in November 2024 in San Francisco Hours of Daylight and Twilight in November 2024 in San Francisco Humidity Comfort Levels in November 2024 in San Francisco Wind Speed in November 2024 in San Francisco Hourly Wind Speed in November 2024 in San Francisco The details of the data sources used for this report can be found on the San Francisco International Airport page.\"}]', name='tavily_search_results_json', id='22ffeb9f-caf6-4d30-ba73-19add990aa4f', tool_call_id='call_UFdwE6U5TjsJpVKI40kHzmHu', artifact={'query': 'San Francisco weather', 'follow_up_questions': None, 'answer': None, 'images': [], 'results': [{'title': 'Weather in San Francisco', 'url': 'https://www.weatherapi.com/', 'content': \"{'location': {'name': 'San Francisco', 'region': 'California', 'country': 'United States of America', 'lat': 37.775, 'lon': -122.4183, 'tz_id': 'America/Los_Angeles', 'localtime_epoch': 1733951474, 'localtime': '2024-12-11 13:11'}, 'current': {'last_updated_epoch': 1733950800, 'last_updated': '2024-12-11 13:00', 'temp_c': 12.2, 'temp_f': 54.0, 'is_day': 1, 'condition': {'text': 'Partly cloudy', 'icon': '//cdn.weatherapi.com/weather/64x64/day/116.png', 'code': 1003}, 'wind_mph': 4.3, 'wind_kph': 6.8, 'wind_degree': 43, 'wind_dir': 'NE', 'pressure_mb': 1021.0, 'pressure_in': 30.15, 'precip_mm': 0.0, 'precip_in': 0.0, 'humidity': 66, 'cloud': 75, 'feelslike_c': 11.8, 'feelslike_f': 53.3, 'windchill_c': 7.7, 'windchill_f': 45.8, 'heatindex_c': 8.8, 'heatindex_f': 47.9, 'dewpoint_c': 6.7, 'dewpoint_f': 44.0, 'vis_km': 16.0, 'vis_miles': 9.0, 'uv': 1.8, 'gust_mph': 5.7, 'gust_kph': 9.2}}\", 'score': 0.9992536, 'raw_content': None}, {'title': 'December 11, 2024 San Francisco Bay Area weather forecast - MSN', 'url': 'https://www.msn.com/en-us/weather/topstories/december-11-2024-san-francisco-bay-area-weather-forecast/vi-AA1vFB5g', 'content': 'KRON San Francisco. December 11, 2024 San Francisco Bay Area weather forecast. Posted: December 11, 2024 | Last updated: December 11, 2024. KRON4 Meteorologist John Shrable has the latest updates', 'score': 0.9957684, 'raw_content': None}, {'title': 'November 2024 Weather History in San Francisco', 'url': 'https://weatherspark.com/h/m/557/2024/11/Historical-Weather-in-November-2024-in-San-Francisco-California-United-States', 'content': 'This report shows the past weather for San Francisco, providing a weather history for November 2024. It features all historical weather data series we have available, including the San Francisco temperature history for November 2024. San Francisco Temperature History November 2024 Hourly Temperature in November 2024 in San Francisco Cloud Cover in November 2024 in San Francisco Daily Precipitation in November 2024 in San Francisco Observed Weather in November 2024 in San Francisco Hours of Daylight and Twilight in November 2024 in San Francisco Humidity Comfort Levels in November 2024 in San Francisco Wind Speed in November 2024 in San Francisco Hourly Wind Speed in November 2024 in San Francisco The details of the data sources used for this report can be found on the San Francisco International Airport page.', 'score': 0.99021614, 'raw_content': None}], 'response_time': 2.74})]}}\n",
      "----\n",
      "{'agent': {'messages': [AIMessage(content='The current weather in San Francisco is partly cloudy with a temperature of about 54°F (12.2°C). Here are some additional details:\\n\\n- **Humidity**: 66%\\n- **Wind**: Northeastern at 4.3 mph (6.8 kph)\\n- **Visibility**: 16 km (9 miles)\\n- **Pressure**: 30.15 inHg (1021.0 mb)\\n\\nIt feels slightly cooler at around 53.3°F (11.8°C) due to the wind chill.\\n\\nIf you want more detailed or updated information, you can check out [WeatherAPI](https://www.weatherapi.com/) or local news outlets.', additional_kwargs={'refusal': None}, response_metadata={'token_usage': {'completion_tokens': 140, 'prompt_tokens': 867, 'total_tokens': 1007, 'completion_tokens_details': {'audio_tokens': 0, 'reasoning_tokens': 0, 'accepted_prediction_tokens': 0, 'rejected_prediction_tokens': 0}, 'prompt_tokens_details': {'audio_tokens': 0, 'cached_tokens': 0}}, 'model_name': 'gpt-4o-mini-2024-07-18', 'system_fingerprint': 'fp_bba3c8e70b', 'finish_reason': 'stop', 'logprobs': None}, id='run-7c5358f7-2be9-4753-8375-1bb0470c58c5-0', usage_metadata={'input_tokens': 867, 'output_tokens': 140, 'total_tokens': 1007, 'input_token_details': {'audio': 0, 'cache_read': 0}, 'output_token_details': {'audio': 0, 'reasoning': 0}})]}}\n",
      "----\n"
     ]
    }
   ],
   "source": [
    "# Use the agent\n",
    "config = {\"configurable\": {\"thread_id\": \"abc123\"}}\n",
    "for chunk in agent_executor.stream(\n",
    "    {\"messages\": [HumanMessage(content=\"hi im bob! and i live in sf\")]}, config\n",
    "):\n",
    "    print(chunk)\n",
    "    print(\"----\")\n",
    "\n",
    "for chunk in agent_executor.stream(\n",
    "    {\"messages\": [HumanMessage(content=\"whats the weather where I live?\")]}, config\n",
    "):\n",
    "    print(chunk)\n",
    "    print(\"----\")"
   ]
  },
  {
   "cell_type": "code",
   "execution_count": null,
   "metadata": {},
   "outputs": [],
   "source": []
  }
 ],
 "metadata": {
  "kernelspec": {
   "display_name": "oreilly-langchain",
   "language": "python",
   "name": "oreilly-langchain"
  },
  "language_info": {
   "codemirror_mode": {
    "name": "ipython",
    "version": 3
   },
   "file_extension": ".py",
   "mimetype": "text/x-python",
   "name": "python",
   "nbconvert_exporter": "python",
   "pygments_lexer": "ipython3",
   "version": "3.11.9"
  }
 },
 "nbformat": 4,
 "nbformat_minor": 2
}
