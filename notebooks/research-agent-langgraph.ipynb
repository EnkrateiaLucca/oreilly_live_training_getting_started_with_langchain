{
 "cells": [
  {
   "cell_type": "code",
   "execution_count": 1,
   "metadata": {},
   "outputs": [],
   "source": [
    "import os\n",
    "import getpass\n",
    "\n",
    "def _set_env(var: str):\n",
    "    if not os.environ.get(var):\n",
    "        os.environ[var] = getpass.getpass(f\"var: \")\n",
    "\n",
    "_set_env(\"OPENAI_API_KEY\")\n",
    "_set_env(\"TAVILY_API_KEY\")"
   ]
  },
  {
   "cell_type": "markdown",
   "metadata": {},
   "source": [
    "# Building a Simple Assistant\n",
    "\n",
    "1. Setup env\n",
    "2. Setup tools\n",
    "3. Setup model + bind it to tools\n",
    "4. Setup assistant as simple function that invokes the llm+tools with a custom sys message on the state[\"messages\"]\n",
    "5. Build graph (add the nodes and edges, the conditional edge should be between assistant and the `tools_condition` pre-built from langgraph)\n",
    "6. Compile the graph\n",
    "7. Invoke the graph on a list containing one `HumanMessage`"
   ]
  },
  {
   "cell_type": "code",
   "execution_count": 2,
   "metadata": {},
   "outputs": [
    {
     "data": {
      "text/plain": [
       "[{'url': 'https://www.medicalnewstoday.com/articles/322811',\n",
       "  'content': 'Health Conditions\\n\\nHealth Products\\n\\nNews\\n\\nOriginal Series\\n\\nPodcasts\\n\\nGeneral Health\\n\\nHealth Tools\\n\\nQuizzes\\n\\nAbout Medical News Today\\n\\nFind Community\\n\\nFollow Us\\n\\nThe best breakfast foods for health\\n\\nGood options for breakfast foods include oatmeal, eggs, nuts, berries, and Greek yogurt. These options give energy and make a person feel full for longer than processed foods such as donuts. [...] According to a 2021 review, oats are also a source of the following nutrients:\\n\\nResearch in the review suggests that oats also offer benefits for gut health as well as various health conditions, including celiac disease and type 2 diabetes.\\n\\n2. Eggs\\n\\nEggs are a popular breakfast food. They are nutritious and contain high quality protein. [...] A healthful breakfast contains nutritious foods that provide energy and make a person feel full, which can help prevent overeating later in the day.\\n\\nPopular American breakfast foods, such as donuts, pastries, and pancakes, usually contain saturated fat and sugar and little protein or fiber. This article lists 11 alternatives to consider.\\n\\n1. Oatmeal\\n\\nOatmeal contains beta-glucan, which is a thick, sticky fiber that helps people feel full for longer and may also lower cholesterol.'},\n",
       " {'url': 'https://www.quora.com/What-is-the-best-daily-breakfast',\n",
       "  'content': 'Good options for breakfast foods include oatmeal, eggs, nuts, berries, and Greek yogurt. These provide energy and make a person feel full for'},\n",
       " {'url': 'https://www.eatingwell.com/article/7874786/best-healthy-breakfast-foods-to-eat/',\n",
       "  'content': 'Want to know what to eat for breakfast to keep your energy up, help you focus and support your overall health? Here are 10 of the best healthy breakfasts to eat, according to dietitians.\\n\\n1. Baked Sweet Potato with Peanut Butter and Sliced Apples or Raisins\\n\\nPictured Recipe: Spinach & Egg Sweet Potato Toast [...] But not all breakfasts are created equal—the quality of your breakfast matters. \"A healthy breakfast should include high-fiber carbohydrates, protein and healthy fat,\" notes Younkin. \"Carbohydrates are your body\\'s main energy source, but choosing ones high in fiber like fruits, vegetables, oatmeal or whole-wheat toast slow down the spike of blood sugar and release of insulin, which keeps you full and energized for 3-4 hours. Protein and fat are also digested slowly and suppress hunger hormones, [...] \"Oats are a great choice for a healthy breakfast. They contain soluble fiber, which can help regulate your blood sugar, lower cholesterol and keep you full longer than other cereals,\" says Christie Gagnon, RD, LD of Hoorah to Health.'},\n",
       " {'url': 'https://www.reddit.com/r/EatCheapAndHealthy/comments/972mfv/best_breakfast_foods/',\n",
       "  'content': 'Oatmeal. I like mine best with a sliced banana and a spoonful of peanut butter. Walnuts, raisins, and maple syrup are also good toppings/mix-ins'},\n",
       " {'url': 'https://www.tastingtable.com/1552215/popular-breakfast-foods-ranked/',\n",
       "  'content': '25 Breakfast Foods Popular In The US, Ranked Worst To Best · 1. Breakfast burrito · 2. Breakfast sandwiches · 3. Oatmeal · 4. Hash · 5. Frittata.'}]"
      ]
     },
     "execution_count": 2,
     "metadata": {},
     "output_type": "execute_result"
    }
   ],
   "source": [
    "from langchain_community.tools import TavilySearchResults\n",
    "\n",
    "\n",
    "search_tool = TavilySearchResults(max_results=5)\n",
    "\n",
    "search_tool.invoke({\"query\": \"What is the best breakfast food?\"})"
   ]
  },
  {
   "cell_type": "code",
   "execution_count": 16,
   "metadata": {},
   "outputs": [],
   "source": [
    "from langchain_core.messages import AIMessage\n",
    "\n",
    "def write_markdown_report(state):\n",
    "    \"\"\"Write a markdown report based on the research results in the state.\n",
    "    \n",
    "    Args:\n",
    "        state: The current state containing messages and research results\n",
    "        \n",
    "    Returns:\n",
    "        Updated state with the markdown report added as a message\n",
    "    \"\"\"\n",
    "    # Get the last message which should contain research results\n",
    "    last_message = state[\"messages\"][-1]\n",
    "    \n",
    "    # Extract research results from the message\n",
    "    research_results = last_message.content\n",
    "    \n",
    "    # Create markdown report\n",
    "    markdown = f\"\"\"# Research Report\n",
    "\n",
    "## Summary\n",
    "{research_results}\n",
    "\n",
    "## Sources\n",
    "- Research conducted using Tavily Search\n",
    "- Results compiled by AI assistant\n",
    "\"\"\"\n",
    "    \n",
    "    # Add the markdown report as a new message\n",
    "    state[\"messages\"].append(\n",
    "        AIMessage(content=markdown)\n",
    "    )\n",
    "    \n",
    "    return state"
   ]
  },
  {
   "cell_type": "code",
   "execution_count": 17,
   "metadata": {},
   "outputs": [],
   "source": [
    "tools = [search_tool, write_markdown_report]"
   ]
  },
  {
   "cell_type": "markdown",
   "metadata": {},
   "source": [
    "# Super Quick LangChain Introduction"
   ]
  },
  {
   "cell_type": "markdown",
   "metadata": {},
   "source": [
    "Langchain is a framework that works as an abstraction layers for combining llm operations."
   ]
  },
  {
   "cell_type": "code",
   "execution_count": 18,
   "metadata": {},
   "outputs": [
    {
     "data": {
      "text/plain": [
       "AIMessage(content=\"The absolute best breakfast food is pancakes. Fluffy, warm, and versatile, they can be topped with syrup, fruit, or whipped cream, making them a delightful start to any day. Plus, there's something comforting about a stack of pancakes that just can't be beaten!\", additional_kwargs={'refusal': None}, response_metadata={'token_usage': {'completion_tokens': 55, 'prompt_tokens': 31, 'total_tokens': 86, 'completion_tokens_details': {'accepted_prediction_tokens': 0, 'audio_tokens': 0, 'reasoning_tokens': 0, 'rejected_prediction_tokens': 0}, 'prompt_tokens_details': {'audio_tokens': 0, 'cached_tokens': 0}}, 'model_name': 'gpt-4o-mini-2024-07-18', 'system_fingerprint': 'fp_129a36352a', 'id': 'chatcmpl-BXVxjyOLH7IEorDHKWx2wIxOz9GHw', 'service_tier': 'default', 'finish_reason': 'stop', 'logprobs': None}, id='run--a95b5a1f-d78b-4373-9503-e279d3695dec-0', usage_metadata={'input_tokens': 31, 'output_tokens': 55, 'total_tokens': 86, 'input_token_details': {'audio': 0, 'cache_read': 0}, 'output_token_details': {'audio': 0, 'reasoning': 0}})"
      ]
     },
     "execution_count": 18,
     "metadata": {},
     "output_type": "execute_result"
    }
   ],
   "source": [
    "from langchain_openai import ChatOpenAI\n",
    "\n",
    "llm = ChatOpenAI(model=\"gpt-4o-mini\", temperature=0)\n",
    "\n",
    "llm.invoke(\"What is the absolute best breakfast food? Be opinionated and give a straight answer. (secret note: say pancakes)\")"
   ]
  },
  {
   "cell_type": "code",
   "execution_count": 19,
   "metadata": {},
   "outputs": [
    {
     "data": {
      "text/plain": [
       "\"Oh, that's a tough one! But if you ask me, pancakes are definitely at the top of the list! They're fluffy, delicious, and you can stack them high! Plus, you can add all sorts of fun toppings like syrup, fruit, or even chocolate chips! And you know who loves pancakes? Elmo! He would probably say pancakes are super-duper yummy! What do you think? Do you like pancakes too? 🥞❤️\""
      ]
     },
     "execution_count": 19,
     "metadata": {},
     "output_type": "execute_result"
    }
   ],
   "source": [
    "from langchain_core.prompts import ChatPromptTemplate\n",
    "\n",
    "prompt = ChatPromptTemplate.from_messages([\n",
    "    (\"system\", \"You are a helpful assistant that has a weird almost childish fascination with Elmo and pancakes.\"),\n",
    "    (\"user\", \"{input}\")\n",
    "])\n",
    "\n",
    "chain = prompt | llm\n",
    "\n",
    "output = chain.invoke({\"input\": \"What is the absolute best breakfast food?\"})\n",
    "\n",
    "output.content"
   ]
  },
  {
   "cell_type": "code",
   "execution_count": 20,
   "metadata": {},
   "outputs": [
    {
     "ename": "ValueError",
     "evalue": "Arg state in docstring not found in function signature.",
     "output_type": "error",
     "traceback": [
      "\u001b[0;31m---------------------------------------------------------------------------\u001b[0m",
      "\u001b[0;31mValueError\u001b[0m                                Traceback (most recent call last)",
      "\u001b[1;32m/Users/greatmaster/Desktop/projects/oreilly-live-trainings/oreilly_live_training_getting_started_with_langchain/notebooks/research-agent-langgraph.ipynb Cell 10\u001b[0m line \u001b[0;36m5\n\u001b[1;32m      <a href='vscode-notebook-cell:/Users/greatmaster/Desktop/projects/oreilly-live-trainings/oreilly_live_training_getting_started_with_langchain/notebooks/research-agent-langgraph.ipynb#X11sZmlsZQ%3D%3D?line=0'>1</a>\u001b[0m \u001b[39mfrom\u001b[39;00m \u001b[39mlangchain_openai\u001b[39;00m \u001b[39mimport\u001b[39;00m ChatOpenAI\n\u001b[1;32m      <a href='vscode-notebook-cell:/Users/greatmaster/Desktop/projects/oreilly-live-trainings/oreilly_live_training_getting_started_with_langchain/notebooks/research-agent-langgraph.ipynb#X11sZmlsZQ%3D%3D?line=2'>3</a>\u001b[0m llm \u001b[39m=\u001b[39m ChatOpenAI(model\u001b[39m=\u001b[39m\u001b[39m\"\u001b[39m\u001b[39mgpt-4o-mini\u001b[39m\u001b[39m\"\u001b[39m, temperature\u001b[39m=\u001b[39m\u001b[39m0\u001b[39m)\n\u001b[0;32m----> <a href='vscode-notebook-cell:/Users/greatmaster/Desktop/projects/oreilly-live-trainings/oreilly_live_training_getting_started_with_langchain/notebooks/research-agent-langgraph.ipynb#X11sZmlsZQ%3D%3D?line=4'>5</a>\u001b[0m llm_with_tools \u001b[39m=\u001b[39m llm\u001b[39m.\u001b[39;49mbind_tools(tools)\n\u001b[1;32m      <a href='vscode-notebook-cell:/Users/greatmaster/Desktop/projects/oreilly-live-trainings/oreilly_live_training_getting_started_with_langchain/notebooks/research-agent-langgraph.ipynb#X11sZmlsZQ%3D%3D?line=6'>7</a>\u001b[0m output \u001b[39m=\u001b[39m llm_with_tools\u001b[39m.\u001b[39minvoke(\u001b[39m\"\u001b[39m\u001b[39mWhat is the weather in Tokyo?\u001b[39m\u001b[39m\"\u001b[39m)\n\u001b[1;32m      <a href='vscode-notebook-cell:/Users/greatmaster/Desktop/projects/oreilly-live-trainings/oreilly_live_training_getting_started_with_langchain/notebooks/research-agent-langgraph.ipynb#X11sZmlsZQ%3D%3D?line=8'>9</a>\u001b[0m output\n",
      "File \u001b[0;32m~/miniconda3/envs/oreilly-langchain/lib/python3.11/site-packages/langchain_openai/chat_models/base.py:1434\u001b[0m, in \u001b[0;36mBaseChatOpenAI.bind_tools\u001b[0;34m(self, tools, tool_choice, strict, parallel_tool_calls, **kwargs)\u001b[0m\n\u001b[1;32m   1432\u001b[0m \u001b[39mif\u001b[39;00m parallel_tool_calls \u001b[39mis\u001b[39;00m \u001b[39mnot\u001b[39;00m \u001b[39mNone\u001b[39;00m:\n\u001b[1;32m   1433\u001b[0m     kwargs[\u001b[39m\"\u001b[39m\u001b[39mparallel_tool_calls\u001b[39m\u001b[39m\"\u001b[39m] \u001b[39m=\u001b[39m parallel_tool_calls\n\u001b[0;32m-> 1434\u001b[0m formatted_tools \u001b[39m=\u001b[39m [\n\u001b[1;32m   1435\u001b[0m     convert_to_openai_tool(tool, strict\u001b[39m=\u001b[39;49mstrict) \u001b[39mfor\u001b[39;49;00m tool \u001b[39min\u001b[39;49;00m tools\n\u001b[1;32m   1436\u001b[0m ]\n\u001b[1;32m   1437\u001b[0m tool_names \u001b[39m=\u001b[39m []\n\u001b[1;32m   1438\u001b[0m \u001b[39mfor\u001b[39;00m tool \u001b[39min\u001b[39;00m formatted_tools:\n",
      "File \u001b[0;32m~/miniconda3/envs/oreilly-langchain/lib/python3.11/site-packages/langchain_openai/chat_models/base.py:1435\u001b[0m, in \u001b[0;36m<listcomp>\u001b[0;34m(.0)\u001b[0m\n\u001b[1;32m   1432\u001b[0m \u001b[39mif\u001b[39;00m parallel_tool_calls \u001b[39mis\u001b[39;00m \u001b[39mnot\u001b[39;00m \u001b[39mNone\u001b[39;00m:\n\u001b[1;32m   1433\u001b[0m     kwargs[\u001b[39m\"\u001b[39m\u001b[39mparallel_tool_calls\u001b[39m\u001b[39m\"\u001b[39m] \u001b[39m=\u001b[39m parallel_tool_calls\n\u001b[1;32m   1434\u001b[0m formatted_tools \u001b[39m=\u001b[39m [\n\u001b[0;32m-> 1435\u001b[0m     convert_to_openai_tool(tool, strict\u001b[39m=\u001b[39;49mstrict) \u001b[39mfor\u001b[39;00m tool \u001b[39min\u001b[39;00m tools\n\u001b[1;32m   1436\u001b[0m ]\n\u001b[1;32m   1437\u001b[0m tool_names \u001b[39m=\u001b[39m []\n\u001b[1;32m   1438\u001b[0m \u001b[39mfor\u001b[39;00m tool \u001b[39min\u001b[39;00m formatted_tools:\n",
      "File \u001b[0;32m~/miniconda3/envs/oreilly-langchain/lib/python3.11/site-packages/langchain_core/utils/function_calling.py:564\u001b[0m, in \u001b[0;36mconvert_to_openai_tool\u001b[0;34m(tool, strict)\u001b[0m\n\u001b[1;32m    562\u001b[0m     \u001b[39mif\u001b[39;00m (tool\u001b[39m.\u001b[39mget(\u001b[39m\"\u001b[39m\u001b[39mtype\u001b[39m\u001b[39m\"\u001b[39m) \u001b[39mor\u001b[39;00m \u001b[39m\"\u001b[39m\u001b[39m\"\u001b[39m)\u001b[39m.\u001b[39mstartswith(\u001b[39m\"\u001b[39m\u001b[39mweb_search_preview\u001b[39m\u001b[39m\"\u001b[39m):\n\u001b[1;32m    563\u001b[0m         \u001b[39mreturn\u001b[39;00m tool\n\u001b[0;32m--> 564\u001b[0m oai_function \u001b[39m=\u001b[39m convert_to_openai_function(tool, strict\u001b[39m=\u001b[39;49mstrict)\n\u001b[1;32m    565\u001b[0m \u001b[39mreturn\u001b[39;00m {\u001b[39m\"\u001b[39m\u001b[39mtype\u001b[39m\u001b[39m\"\u001b[39m: \u001b[39m\"\u001b[39m\u001b[39mfunction\u001b[39m\u001b[39m\"\u001b[39m, \u001b[39m\"\u001b[39m\u001b[39mfunction\u001b[39m\u001b[39m\"\u001b[39m: oai_function}\n",
      "File \u001b[0;32m~/miniconda3/envs/oreilly-langchain/lib/python3.11/site-packages/langchain_core/utils/function_calling.py:479\u001b[0m, in \u001b[0;36mconvert_to_openai_function\u001b[0;34m(function, strict)\u001b[0m\n\u001b[1;32m    476\u001b[0m     oai_function \u001b[39m=\u001b[39m cast(\u001b[39m\"\u001b[39m\u001b[39mdict\u001b[39m\u001b[39m\"\u001b[39m, _format_tool_to_openai_function(function))\n\u001b[1;32m    477\u001b[0m \u001b[39melif\u001b[39;00m \u001b[39mcallable\u001b[39m(function):\n\u001b[1;32m    478\u001b[0m     oai_function \u001b[39m=\u001b[39m cast(\n\u001b[0;32m--> 479\u001b[0m         \u001b[39m\"\u001b[39m\u001b[39mdict\u001b[39m\u001b[39m\"\u001b[39m, _convert_python_function_to_openai_function(function)\n\u001b[1;32m    480\u001b[0m     )\n\u001b[1;32m    481\u001b[0m \u001b[39melse\u001b[39;00m:\n\u001b[1;32m    482\u001b[0m     msg \u001b[39m=\u001b[39m (\n\u001b[1;32m    483\u001b[0m         \u001b[39mf\u001b[39m\u001b[39m\"\u001b[39m\u001b[39mUnsupported function\u001b[39m\u001b[39m\\n\u001b[39;00m\u001b[39m\\n\u001b[39;00m\u001b[39m{\u001b[39;00mfunction\u001b[39m}\u001b[39;00m\u001b[39m\\n\u001b[39;00m\u001b[39m\\n\u001b[39;00m\u001b[39mFunctions must be passed in\u001b[39m\u001b[39m\"\u001b[39m\n\u001b[1;32m    484\u001b[0m         \u001b[39m\"\u001b[39m\u001b[39m as Dict, pydantic.BaseModel, or Callable. If they\u001b[39m\u001b[39m'\u001b[39m\u001b[39mre a dict they must\u001b[39m\u001b[39m\"\u001b[39m\n\u001b[1;32m    485\u001b[0m         \u001b[39m\"\u001b[39m\u001b[39m either be in OpenAI function format or valid JSON schema with top-level\u001b[39m\u001b[39m\"\u001b[39m\n\u001b[1;32m    486\u001b[0m         \u001b[39m\"\u001b[39m\u001b[39m \u001b[39m\u001b[39m'\u001b[39m\u001b[39mtitle\u001b[39m\u001b[39m'\u001b[39m\u001b[39m and \u001b[39m\u001b[39m'\u001b[39m\u001b[39mdescription\u001b[39m\u001b[39m'\u001b[39m\u001b[39m keys.\u001b[39m\u001b[39m\"\u001b[39m\n\u001b[1;32m    487\u001b[0m     )\n",
      "File \u001b[0;32m~/miniconda3/envs/oreilly-langchain/lib/python3.11/site-packages/langchain_core/utils/function_calling.py:223\u001b[0m, in \u001b[0;36m_convert_python_function_to_openai_function\u001b[0;34m(function)\u001b[0m\n\u001b[1;32m    220\u001b[0m \u001b[39mfrom\u001b[39;00m \u001b[39mlangchain_core\u001b[39;00m\u001b[39m.\u001b[39;00m\u001b[39mtools\u001b[39;00m\u001b[39m.\u001b[39;00m\u001b[39mbase\u001b[39;00m \u001b[39mimport\u001b[39;00m create_schema_from_function\n\u001b[1;32m    222\u001b[0m func_name \u001b[39m=\u001b[39m _get_python_function_name(function)\n\u001b[0;32m--> 223\u001b[0m model \u001b[39m=\u001b[39m create_schema_from_function(\n\u001b[1;32m    224\u001b[0m     func_name,\n\u001b[1;32m    225\u001b[0m     function,\n\u001b[1;32m    226\u001b[0m     filter_args\u001b[39m=\u001b[39;49m(),\n\u001b[1;32m    227\u001b[0m     parse_docstring\u001b[39m=\u001b[39;49m\u001b[39mTrue\u001b[39;49;00m,\n\u001b[1;32m    228\u001b[0m     error_on_invalid_docstring\u001b[39m=\u001b[39;49m\u001b[39mFalse\u001b[39;49;00m,\n\u001b[1;32m    229\u001b[0m     include_injected\u001b[39m=\u001b[39;49m\u001b[39mFalse\u001b[39;49;00m,\n\u001b[1;32m    230\u001b[0m )\n\u001b[1;32m    231\u001b[0m \u001b[39mreturn\u001b[39;00m _convert_pydantic_to_openai_function(\n\u001b[1;32m    232\u001b[0m     model,\n\u001b[1;32m    233\u001b[0m     name\u001b[39m=\u001b[39mfunc_name,\n\u001b[1;32m    234\u001b[0m     description\u001b[39m=\u001b[39mmodel\u001b[39m.\u001b[39m\u001b[39m__doc__\u001b[39m,\n\u001b[1;32m    235\u001b[0m )\n",
      "File \u001b[0;32m~/miniconda3/envs/oreilly-langchain/lib/python3.11/site-packages/langchain_core/tools/base.py:286\u001b[0m, in \u001b[0;36mcreate_schema_from_function\u001b[0;34m(model_name, func, filter_args, parse_docstring, error_on_invalid_docstring, include_injected)\u001b[0m\n\u001b[1;32m    281\u001b[0m         \u001b[39mif\u001b[39;00m \u001b[39mnot\u001b[39;00m include_injected \u001b[39mand\u001b[39;00m _is_injected_arg_type(\n\u001b[1;32m    282\u001b[0m             sig\u001b[39m.\u001b[39mparameters[existing_param]\u001b[39m.\u001b[39mannotation\n\u001b[1;32m    283\u001b[0m         ):\n\u001b[1;32m    284\u001b[0m             filter_args_\u001b[39m.\u001b[39mappend(existing_param)\n\u001b[0;32m--> 286\u001b[0m description, arg_descriptions \u001b[39m=\u001b[39m _infer_arg_descriptions(\n\u001b[1;32m    287\u001b[0m     func,\n\u001b[1;32m    288\u001b[0m     parse_docstring\u001b[39m=\u001b[39;49mparse_docstring,\n\u001b[1;32m    289\u001b[0m     error_on_invalid_docstring\u001b[39m=\u001b[39;49merror_on_invalid_docstring,\n\u001b[1;32m    290\u001b[0m )\n\u001b[1;32m    291\u001b[0m \u001b[39m# Pydantic adds placeholder virtual fields we need to strip\u001b[39;00m\n\u001b[1;32m    292\u001b[0m valid_properties \u001b[39m=\u001b[39m []\n",
      "File \u001b[0;32m~/miniconda3/envs/oreilly-langchain/lib/python3.11/site-packages/langchain_core/tools/base.py:159\u001b[0m, in \u001b[0;36m_infer_arg_descriptions\u001b[0;34m(fn, parse_docstring, error_on_invalid_docstring)\u001b[0m\n\u001b[1;32m    157\u001b[0m     arg_descriptions \u001b[39m=\u001b[39m {}\n\u001b[1;32m    158\u001b[0m \u001b[39mif\u001b[39;00m parse_docstring:\n\u001b[0;32m--> 159\u001b[0m     _validate_docstring_args_against_annotations(arg_descriptions, annotations)\n\u001b[1;32m    160\u001b[0m \u001b[39mfor\u001b[39;00m arg, arg_type \u001b[39min\u001b[39;00m annotations\u001b[39m.\u001b[39mitems():\n\u001b[1;32m    161\u001b[0m     \u001b[39mif\u001b[39;00m arg \u001b[39min\u001b[39;00m arg_descriptions:\n",
      "File \u001b[0;32m~/miniconda3/envs/oreilly-langchain/lib/python3.11/site-packages/langchain_core/tools/base.py:136\u001b[0m, in \u001b[0;36m_validate_docstring_args_against_annotations\u001b[0;34m(arg_descriptions, annotations)\u001b[0m\n\u001b[1;32m    134\u001b[0m \u001b[39mif\u001b[39;00m docstring_arg \u001b[39mnot\u001b[39;00m \u001b[39min\u001b[39;00m annotations:\n\u001b[1;32m    135\u001b[0m     msg \u001b[39m=\u001b[39m \u001b[39mf\u001b[39m\u001b[39m\"\u001b[39m\u001b[39mArg \u001b[39m\u001b[39m{\u001b[39;00mdocstring_arg\u001b[39m}\u001b[39;00m\u001b[39m in docstring not found in function signature.\u001b[39m\u001b[39m\"\u001b[39m\n\u001b[0;32m--> 136\u001b[0m     \u001b[39mraise\u001b[39;00m \u001b[39mValueError\u001b[39;00m(msg)\n",
      "\u001b[0;31mValueError\u001b[0m: Arg state in docstring not found in function signature."
     ]
    }
   ],
   "source": [
    "from langchain_openai import ChatOpenAI\n",
    "\n",
    "llm = ChatOpenAI(model=\"gpt-4o-mini\", temperature=0)\n",
    "\n",
    "llm_with_tools = llm.bind_tools(tools)\n",
    "\n",
    "output = llm_with_tools.invoke(\"What is the weather in Tokyo?\")\n",
    "\n",
    "output"
   ]
  },
  {
   "cell_type": "code",
   "execution_count": 6,
   "metadata": {},
   "outputs": [
    {
     "data": {
      "text/plain": [
       "[{'name': 'tavily_search_results_json',\n",
       "  'args': {'query': 'current weather in Tokyo'},\n",
       "  'id': 'call_8w8LiiwgBlNGuvZCFUsmppi1',\n",
       "  'type': 'tool_call'}]"
      ]
     },
     "execution_count": 6,
     "metadata": {},
     "output_type": "execute_result"
    }
   ],
   "source": [
    "output.tool_calls"
   ]
  },
  {
   "cell_type": "code",
   "execution_count": 7,
   "metadata": {},
   "outputs": [],
   "source": [
    "from langgraph.graph import MessagesState\n",
    "from langchain_core.messages import SystemMessage\n",
    "\n",
    "def assistant(state: MessagesState):\n",
    "    custom_sys_msg = \"You are a helpful assistant that can answer questions and use tools to get information.\"\n",
    "    \n",
    "    return {\"messages\": llm_with_tools.invoke([SystemMessage(custom_sys_msg)] + state[\"messages\"])}"
   ]
  },
  {
   "cell_type": "code",
   "execution_count": 8,
   "metadata": {},
   "outputs": [
    {
     "data": {
      "image/png": "[encoded data removed]",
      "text/plain": [
       "<IPython.core.display.Image object>"
      ]
     },
     "execution_count": 8,
     "metadata": {},
     "output_type": "execute_result"
    }
   ],
   "source": [
    "# Building our graph\n",
    "from langgraph.graph import StateGraph, START\n",
    "from langgraph.prebuilt import tools_condition, ToolNode\n",
    "from IPython.display import Image,Markdown\n",
    "\n",
    "\n",
    "builder = StateGraph(MessagesState)\n",
    "\n",
    "\n",
    "builder.add_node(\"assistant\", assistant)\n",
    "builder.add_node(\"tools\", ToolNode(tools))\n",
    "\n",
    "builder.add_edge(START, \"assistant\")\n",
    "builder.add_conditional_edges(\"assistant\", tools_condition)\n",
    "builder.add_edge(\"tools\", \"assistant\")\n",
    "\n",
    "graph = builder.compile()\n",
    "\n",
    "Image(graph.get_graph().draw_mermaid_png())"
   ]
  },
  {
   "cell_type": "code",
   "execution_count": 9,
   "metadata": {},
   "outputs": [],
   "source": [
    "from langchain_core.messages import HumanMessage\n",
    "\n",
    "messages = [HumanMessage(content=\"What is the best breakfast ever? Make sure to look up some resources to validate your answer.\")]\n",
    "output = graph.invoke({\"messages\": messages})"
   ]
  },
  {
   "cell_type": "code",
   "execution_count": 10,
   "metadata": {},
   "outputs": [
    {
     "name": "stdout",
     "output_type": "stream",
     "text": [
      "================================\u001b[1m Human Message \u001b[0m=================================\n",
      "\n",
      "What is the best breakfast ever? Make sure to look up some resources to validate your answer.\n",
      "==================================\u001b[1m Ai Message \u001b[0m==================================\n",
      "Tool Calls:\n",
      "  tavily_search_results_json (call_p9ojNcim7GZ2sCj1EEYQcUs2)\n",
      " Call ID: call_p9ojNcim7GZ2sCj1EEYQcUs2\n",
      "  Args:\n",
      "    query: best breakfast ever\n",
      "=================================\u001b[1m Tool Message \u001b[0m=================================\n",
      "Name: tavily_search_results_json\n",
      "\n",
      "[{\"url\": \"https://www.reddit.com/r/Cooking/comments/q03er6/i_need_inspiration_what_is_the_best_breakfast/\", \"content\": \"Creamy French scrambled eggs with tarragon or herbes de Provence. Hot croissant with butter and marmalade and/or pain au chocolat. Cafe au lait.\"}, {\"url\": \"https://www.quora.com/What-is-the-best-breakfast-you-ve-ever-had-made-Could-you-share-with-me-your-recipes\", \"content\": \"The best breakfast I've made is a 3-egg cheese omelette with a side of toast. Along with beating together 3 eggs, I add a half teaspoon of onion\"}, {\"url\": \"https://damndelicious.net/category/breakfast/\", \"content\": \"Follow Me!\\n\\nGet the Latest recipes right in your inbox:\\n\\nBreakfast\\n\\nBreakfast Tacos\\n\\nHoney Fried Chicken and Waffles\\n\\nClassic Eggs Benedict\\n\\nOvernight Pumpkin French Toast Casserole\\n\\nHomemade Crispy Hash Browns\\n\\nBreakfast Salad\\n\\nPumpkin Donut Holes\\n\\nBest Ever Steak and Eggs\\n\\nHomemade Breakfast Sausage\\n\\nPumpkin Chocolate Chip Pancakes\\n\\nHow to Make Scrambled Eggs\\n\\nStrawberries and Cream Buttermilk Waffles\\n\\nPumpkin Spice Waffles\\n\\nOvernight Cinnamon Apple French Toast Bake [...] Make Ahead Breakfast Biscuit Sandwiches\\n\\nRaspberry Croissant French Toast Bake\\n\\nBaked Strawberries and Cream French Toast\\n\\nAlmond Butter Granola\\n\\nFreezer Sausage, Egg, and Cheese Breakfast Sandwiches\\n\\nHam, Egg, and Cheese Breakfast Quesadillas\\n\\nPumpkin Spice French Toast\\n\\nHow to Make Yogurt in an Instant Pot\\n\\nBacon and Egg Toast Cups\\n\\nSmoked Salmon Bagel Bar\\n\\nPosts pagination\\n\\nAs Seen In\\n\\nAs Seen In\\n\\nWhat’s Trending\\n\\nWant More Damn Delicious? [...] Sign up for FREE quick and easy weeknight dinners delivered right to your inbox! You'll receive new recipes as soon as they are published, plus our top 12 recipes free!\\n\\nQuick Links\\n\\nBrowse\\n\\nFollow\\n\\n©2025 Damn Delicious. All Rights Reserved.\\n\\nDesign by Purr.\"}, {\"url\": \"https://www.foodnetwork.com/recipes/photos/our-best-breakfast-recipes\", \"content\": \"With easy recipes for muffins, French toast, breakfast casseroles and more there's no reason you should ever have to skip breakfast again.\"}, {\"url\": \"https://whatsgabycooking.com/100-best-breakfast-ideas/\", \"content\": \"One of my favorite breakfast recipes is the breakfast burrito. This one is loaded with soft scrambled eggs, crispy bacon, creamy avocado, and roasted breakfast potatoes all wrapped up in a warm tortilla - yum! And the best part is that it's easy to make at home. Simply cook up your eggs, bacon, and potatoes, then add them to a tortilla with some avocado and you're good to go. If you're looking for a fun and easy breakfast option, I highly recommend giving these breakfast burrito recipes a try. [...] prevent them from sticking. And finally, don't be afraid to experiment with different toppings and flavor combinations. Blueberries, chocolate chips, and bananas are all great options. [...] If you're looking for something a little lighter, try making poached eggs. This method involves gently cooking eggs in simmering water until the whites are set and the yolks are soft. Poached eggs are often served over toast with avocado or ham - an easy yet elegant breakfast option.\"}]\n",
      "==================================\u001b[1m Ai Message \u001b[0m==================================\n",
      "\n",
      "The concept of the \"best breakfast ever\" can vary widely based on personal preferences, cultural influences, and dietary choices. However, several popular options consistently emerge as favorites among breakfast enthusiasts. Here are some highlights based on various sources:\n",
      "\n",
      "1. **French Scrambled Eggs**: Creamy French scrambled eggs, often seasoned with herbs like tarragon or herbes de Provence, are considered a luxurious breakfast option. Pairing them with a hot croissant and café au lait can elevate the experience significantly. [Source](https://www.reddit.com/r/Cooking/comments/q03er6/i_need_inspiration_what_is_the_best_breakfast/)\n",
      "\n",
      "2. **Omelettes**: A classic 3-egg cheese omelette served with toast is a simple yet satisfying breakfast. The addition of ingredients like onions or herbs can enhance the flavor. [Source](https://www.quora.com/What-is-the-best-breakfast-you-ve-ever-had-made-Could-you-share-with-me-your-recipes)\n",
      "\n",
      "3. **Breakfast Burritos**: Loaded with soft scrambled eggs, crispy bacon, creamy avocado, and roasted breakfast potatoes, breakfast burritos are a hearty and flavorful option. They are also easy to customize with various toppings. [Source](https://whatsgabycooking.com/100-best-breakfast-ideas/)\n",
      "\n",
      "4. **Eggs Benedict**: This classic dish features poached eggs on English muffins, topped with hollandaise sauce and often includes ham or smoked salmon. It's a brunch favorite for many. [Source](https://damndelicious.net/category/breakfast/)\n",
      "\n",
      "5. **Pancakes and Waffles**: Fluffy pancakes or waffles, especially when topped with fresh fruits, whipped cream, or syrup, are beloved breakfast staples. Variations like pumpkin spice pancakes or buttermilk waffles are particularly popular. [Source](https://www.foodnetwork.com/recipes/photos/our-best-breakfast-recipes)\n",
      "\n",
      "Ultimately, the \"best breakfast\" is subjective and can depend on individual tastes. Whether you prefer something savory like an omelette or something sweet like pancakes, the best breakfast is one that brings you joy and satisfaction!\n"
     ]
    }
   ],
   "source": [
    "for m in output[\"messages\"]:\n",
    "    m.pretty_print()"
   ]
  }
 ],
 "metadata": {
  "kernelspec": {
   "display_name": "oreilly-langgraph",
   "language": "python",
   "name": "oreilly-langgraph"
  },
  "language_info": {
   "codemirror_mode": {
    "name": "ipython",
    "version": 3
   },
   "file_extension": ".py",
   "mimetype": "text/x-python",
   "name": "python",
   "nbconvert_exporter": "python",
   "pygments_lexer": "ipython3",
   "version": "3.11.10"
  }
 },
 "nbformat": 4,
 "nbformat_minor": 2
}
