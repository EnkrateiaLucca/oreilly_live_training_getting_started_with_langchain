{
 "cells": [
  {
   "cell_type": "markdown",
   "id": "13c6e0ce",
   "metadata": {},
   "source": [
    "# How to go from LLMs that can produce text to taking actions?"
   ]
  },
  {
   "cell_type": "code",
   "execution_count": 1,
   "id": "b0022233",
   "metadata": {},
   "outputs": [],
   "source": [
    "def write_file(file_path: str, content: str):\n",
    "    with open(file_path, \"w\") as f:\n",
    "        f.write(content)\n",
    "\n",
    "write_file(\"test.txt\", \"Hello, world!\")"
   ]
  },
  {
   "cell_type": "code",
   "execution_count": 3,
   "id": "a704bb29",
   "metadata": {},
   "outputs": [
    {
     "data": {
      "text/plain": [
       "'To write the specified content to the file `llm-takes-action.txt`, you can use the `write_file` function as follows:\\n\\n```python\\nwrite_file(\"llm-takes-action.txt\", \"We just created our first agent!!!!\")\\n```\\n\\nThis will create the file and write the content into it.'"
      ]
     },
     "execution_count": 3,
     "metadata": {},
     "output_type": "execute_result"
    }
   ],
   "source": [
    "from langchain.chat_models import init_chat_model\n",
    "from langchain_core.prompts import ChatPromptTemplate\n",
    "from langchain_core.output_parsers import StrOutputParser\n",
    "llm = init_chat_model(model=\"gpt-4o-mini\", temperature=0)\n",
    "\n",
    "prompt = ChatPromptTemplate.from_template(\n",
    "    \"\"\"\n",
    "    You have this function write_file(file_path: str, content: str) that you can use to write to a file\n",
    "    if the user asks you to do that. \n",
    "    \n",
    "    This is the question from the user:\n",
    "    {input_from_user}\n",
    "    \"\"\"\n",
    ")\n",
    "\n",
    "chain = prompt | llm | StrOutputParser()\n",
    "\n",
    "chain.invoke({\"input_from_user\": \"Write a file called llm-takes-action.txt with the content 'We just created our first agent!!!!'\"})"
   ]
  },
  {
   "cell_type": "markdown",
   "id": "c9dee3c4",
   "metadata": {},
   "source": [
    "'To write the specified content to the file `llm-takes-action.txt`, you can use the `write_file` function as follows:\\n\\n```python\\nwrite_file(\"llm-takes-action.txt\", \"We just created our first agent!!!!\")\\n```\\n\\nThis will create the file and write the content into it.'"
   ]
  },
  {
   "cell_type": "markdown",
   "id": "f1810b54",
   "metadata": {},
   "source": [
    "Did not work, the output was a lengthy annoying explanation! Let's change that with from prompt engineering."
   ]
  },
  {
   "cell_type": "code",
   "execution_count": 6,
   "id": "7d7fdd7f",
   "metadata": {},
   "outputs": [],
   "source": [
    "prompt = ChatPromptTemplate.from_template(\"\"\"\n",
    "    You have this function write_file(file_path: str, content: str) that you can use to write to a file\n",
    "    if the user asks you to do that. \n",
    "    \n",
    "    If the users asks you to write a file, your output should be ONLY the python code to write the file.\n",
    "    as a string. \n",
    "    \n",
    "    For example:\n",
    "    input: write a file named text.txt with the content \"Hello, world!\"\n",
    "    output: \"write_file('text.txt', 'Hello, world!')\"\n",
    "    \n",
    "    This is the question from the user:\n",
    "    {input_from_user}\n",
    "    \"\"\")\n",
    "    \n",
    "chain = prompt | llm | StrOutputParser()\n",
    "\n",
    "output_action = chain.invoke({\"input_from_user\": \"Write a file called llm-takes-action.txt with the content 'We just created our first agent!!!!'\"})"
   ]
  },
  {
   "cell_type": "code",
   "execution_count": 9,
   "id": "fe06b5f7",
   "metadata": {},
   "outputs": [
    {
     "data": {
      "text/plain": [
       "'\"write_file(\\'llm-takes-action.txt\\', \\'We just created our first agent!!!!\\')\"'"
      ]
     },
     "execution_count": 9,
     "metadata": {},
     "output_type": "execute_result"
    }
   ],
   "source": [
    "output_action"
   ]
  },
  {
   "cell_type": "code",
   "execution_count": 10,
   "id": "1493f8a5",
   "metadata": {},
   "outputs": [
    {
     "data": {
      "text/plain": [
       "\"write_file('llm-takes-action.txt', 'We just created our first agent!!!!')\""
      ]
     },
     "execution_count": 10,
     "metadata": {},
     "output_type": "execute_result"
    }
   ],
   "source": [
    "output_action = output_action.strip('\"').strip(\"'\")\n",
    "output_action"
   ]
  },
  {
   "cell_type": "code",
   "execution_count": 11,
   "id": "136b609d",
   "metadata": {},
   "outputs": [
    {
     "name": "stdout",
     "output_type": "stream",
     "text": [
      "Executing action:\n"
     ]
    }
   ],
   "source": [
    "print(\"Executing action:\")\n",
    "\n",
    "exec(output_action)\n"
   ]
  },
  {
   "cell_type": "code",
   "execution_count": 12,
   "id": "97d1d583",
   "metadata": {},
   "outputs": [
    {
     "name": "stdout",
     "output_type": "stream",
     "text": [
      "llm-takes-action.txt\n"
     ]
    }
   ],
   "source": [
    "!ls llm-takes-action.txt"
   ]
  }
 ],
 "metadata": {
  "language_info": {
   "name": "python"
  }
 },
 "nbformat": 4,
 "nbformat_minor": 5
}
